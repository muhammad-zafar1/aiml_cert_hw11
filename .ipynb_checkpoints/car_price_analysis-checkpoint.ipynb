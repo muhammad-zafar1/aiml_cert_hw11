{
 "cells": [
  {
   "cell_type": "markdown",
   "metadata": {},
   "source": [
    "# What drives the price of a car?\n",
    "\n",
    "![](images/kurt.jpeg)"
   ]
  },
  {
   "cell_type": "markdown",
   "metadata": {},
   "source": [
    "**OVERVIEW**\n",
    "\n",
    "In this application, you will explore a dataset from Kaggle. The original dataset contained information on 3 million used cars. The provided dataset contains information on 426K cars to ensure speed of processing.  Your goal is to understand what factors make a car more or less expensive.  As a result of your analysis, you should provide clear recommendations to your client -- a used car dealership -- as to what consumers value in a used car."
   ]
  },
  {
   "cell_type": "markdown",
   "metadata": {},
   "source": [
    "### CRISP-DM Framework\n",
    "\n",
    "<center>\n",
    "    <img src = images/crisp.png width = 50%/>\n",
    "</center>\n",
    "\n",
    "\n",
    "To frame the task, throughout our practical applications, we will refer back to a standard process in industry for data projects called CRISP-DM.  This process provides a framework for working through a data problem.  Your first step in this application will be to read through a brief overview of CRISP-DM [here](https://mo-pcco.s3.us-east-1.amazonaws.com/BH-PCMLAI/module_11/readings_starter.zip).  After reading the overview, answer the questions below."
   ]
  },
  {
   "cell_type": "markdown",
   "metadata": {},
   "source": [
    "### Business Understanding\n",
    "\n",
    "From a business perspective, we are tasked with identifying key drivers for used car prices.  In the CRISP-DM overview, we are asked to convert this business framing to a data problem definition.  Using a few sentences, reframe the task as a data task with the appropriate technical vocabulary. "
   ]
  },
  {
   "cell_type": "code",
   "execution_count": 4,
   "metadata": {},
   "outputs": [],
   "source": [
    "import plotly.express as px\n",
    "import numpy as np\n",
    "import plotly.graph_objects as go\n",
    "import matplotlib.pyplot as plt\n",
    "import pandas as pd\n",
    "import seaborn as sns\n",
    "from sklearn.linear_model import LinearRegression\n",
    "from sklearn.metrics import mean_squared_error\n",
    "import warnings\n",
    "warnings.filterwarnings('ignore')"
   ]
  },
  {
   "cell_type": "code",
   "execution_count": 5,
   "metadata": {},
   "outputs": [
    {
     "data": {
      "text/html": [
       "<div>\n",
       "<style scoped>\n",
       "    .dataframe tbody tr th:only-of-type {\n",
       "        vertical-align: middle;\n",
       "    }\n",
       "\n",
       "    .dataframe tbody tr th {\n",
       "        vertical-align: top;\n",
       "    }\n",
       "\n",
       "    .dataframe thead th {\n",
       "        text-align: right;\n",
       "    }\n",
       "</style>\n",
       "<table border=\"1\" class=\"dataframe\">\n",
       "  <thead>\n",
       "    <tr style=\"text-align: right;\">\n",
       "      <th></th>\n",
       "      <th>id</th>\n",
       "      <th>region</th>\n",
       "      <th>price</th>\n",
       "      <th>year</th>\n",
       "      <th>manufacturer</th>\n",
       "      <th>model</th>\n",
       "      <th>condition</th>\n",
       "      <th>cylinders</th>\n",
       "      <th>fuel</th>\n",
       "      <th>odometer</th>\n",
       "      <th>title_status</th>\n",
       "      <th>transmission</th>\n",
       "      <th>VIN</th>\n",
       "      <th>drive</th>\n",
       "      <th>size</th>\n",
       "      <th>type</th>\n",
       "      <th>paint_color</th>\n",
       "      <th>state</th>\n",
       "    </tr>\n",
       "  </thead>\n",
       "  <tbody>\n",
       "    <tr>\n",
       "      <th>0</th>\n",
       "      <td>7222695916</td>\n",
       "      <td>prescott</td>\n",
       "      <td>6000</td>\n",
       "      <td>NaN</td>\n",
       "      <td>NaN</td>\n",
       "      <td>NaN</td>\n",
       "      <td>NaN</td>\n",
       "      <td>NaN</td>\n",
       "      <td>NaN</td>\n",
       "      <td>NaN</td>\n",
       "      <td>NaN</td>\n",
       "      <td>NaN</td>\n",
       "      <td>NaN</td>\n",
       "      <td>NaN</td>\n",
       "      <td>NaN</td>\n",
       "      <td>NaN</td>\n",
       "      <td>NaN</td>\n",
       "      <td>az</td>\n",
       "    </tr>\n",
       "    <tr>\n",
       "      <th>1</th>\n",
       "      <td>7218891961</td>\n",
       "      <td>fayetteville</td>\n",
       "      <td>11900</td>\n",
       "      <td>NaN</td>\n",
       "      <td>NaN</td>\n",
       "      <td>NaN</td>\n",
       "      <td>NaN</td>\n",
       "      <td>NaN</td>\n",
       "      <td>NaN</td>\n",
       "      <td>NaN</td>\n",
       "      <td>NaN</td>\n",
       "      <td>NaN</td>\n",
       "      <td>NaN</td>\n",
       "      <td>NaN</td>\n",
       "      <td>NaN</td>\n",
       "      <td>NaN</td>\n",
       "      <td>NaN</td>\n",
       "      <td>ar</td>\n",
       "    </tr>\n",
       "    <tr>\n",
       "      <th>2</th>\n",
       "      <td>7221797935</td>\n",
       "      <td>florida keys</td>\n",
       "      <td>21000</td>\n",
       "      <td>NaN</td>\n",
       "      <td>NaN</td>\n",
       "      <td>NaN</td>\n",
       "      <td>NaN</td>\n",
       "      <td>NaN</td>\n",
       "      <td>NaN</td>\n",
       "      <td>NaN</td>\n",
       "      <td>NaN</td>\n",
       "      <td>NaN</td>\n",
       "      <td>NaN</td>\n",
       "      <td>NaN</td>\n",
       "      <td>NaN</td>\n",
       "      <td>NaN</td>\n",
       "      <td>NaN</td>\n",
       "      <td>fl</td>\n",
       "    </tr>\n",
       "    <tr>\n",
       "      <th>3</th>\n",
       "      <td>7222270760</td>\n",
       "      <td>worcester / central MA</td>\n",
       "      <td>1500</td>\n",
       "      <td>NaN</td>\n",
       "      <td>NaN</td>\n",
       "      <td>NaN</td>\n",
       "      <td>NaN</td>\n",
       "      <td>NaN</td>\n",
       "      <td>NaN</td>\n",
       "      <td>NaN</td>\n",
       "      <td>NaN</td>\n",
       "      <td>NaN</td>\n",
       "      <td>NaN</td>\n",
       "      <td>NaN</td>\n",
       "      <td>NaN</td>\n",
       "      <td>NaN</td>\n",
       "      <td>NaN</td>\n",
       "      <td>ma</td>\n",
       "    </tr>\n",
       "    <tr>\n",
       "      <th>4</th>\n",
       "      <td>7210384030</td>\n",
       "      <td>greensboro</td>\n",
       "      <td>4900</td>\n",
       "      <td>NaN</td>\n",
       "      <td>NaN</td>\n",
       "      <td>NaN</td>\n",
       "      <td>NaN</td>\n",
       "      <td>NaN</td>\n",
       "      <td>NaN</td>\n",
       "      <td>NaN</td>\n",
       "      <td>NaN</td>\n",
       "      <td>NaN</td>\n",
       "      <td>NaN</td>\n",
       "      <td>NaN</td>\n",
       "      <td>NaN</td>\n",
       "      <td>NaN</td>\n",
       "      <td>NaN</td>\n",
       "      <td>nc</td>\n",
       "    </tr>\n",
       "    <tr>\n",
       "      <th>5</th>\n",
       "      <td>7222379453</td>\n",
       "      <td>hudson valley</td>\n",
       "      <td>1600</td>\n",
       "      <td>NaN</td>\n",
       "      <td>NaN</td>\n",
       "      <td>NaN</td>\n",
       "      <td>NaN</td>\n",
       "      <td>NaN</td>\n",
       "      <td>NaN</td>\n",
       "      <td>NaN</td>\n",
       "      <td>NaN</td>\n",
       "      <td>NaN</td>\n",
       "      <td>NaN</td>\n",
       "      <td>NaN</td>\n",
       "      <td>NaN</td>\n",
       "      <td>NaN</td>\n",
       "      <td>NaN</td>\n",
       "      <td>ny</td>\n",
       "    </tr>\n",
       "    <tr>\n",
       "      <th>6</th>\n",
       "      <td>7221952215</td>\n",
       "      <td>hudson valley</td>\n",
       "      <td>1000</td>\n",
       "      <td>NaN</td>\n",
       "      <td>NaN</td>\n",
       "      <td>NaN</td>\n",
       "      <td>NaN</td>\n",
       "      <td>NaN</td>\n",
       "      <td>NaN</td>\n",
       "      <td>NaN</td>\n",
       "      <td>NaN</td>\n",
       "      <td>NaN</td>\n",
       "      <td>NaN</td>\n",
       "      <td>NaN</td>\n",
       "      <td>NaN</td>\n",
       "      <td>NaN</td>\n",
       "      <td>NaN</td>\n",
       "      <td>ny</td>\n",
       "    </tr>\n",
       "    <tr>\n",
       "      <th>7</th>\n",
       "      <td>7220195662</td>\n",
       "      <td>hudson valley</td>\n",
       "      <td>15995</td>\n",
       "      <td>NaN</td>\n",
       "      <td>NaN</td>\n",
       "      <td>NaN</td>\n",
       "      <td>NaN</td>\n",
       "      <td>NaN</td>\n",
       "      <td>NaN</td>\n",
       "      <td>NaN</td>\n",
       "      <td>NaN</td>\n",
       "      <td>NaN</td>\n",
       "      <td>NaN</td>\n",
       "      <td>NaN</td>\n",
       "      <td>NaN</td>\n",
       "      <td>NaN</td>\n",
       "      <td>NaN</td>\n",
       "      <td>ny</td>\n",
       "    </tr>\n",
       "    <tr>\n",
       "      <th>8</th>\n",
       "      <td>7209064557</td>\n",
       "      <td>medford-ashland</td>\n",
       "      <td>5000</td>\n",
       "      <td>NaN</td>\n",
       "      <td>NaN</td>\n",
       "      <td>NaN</td>\n",
       "      <td>NaN</td>\n",
       "      <td>NaN</td>\n",
       "      <td>NaN</td>\n",
       "      <td>NaN</td>\n",
       "      <td>NaN</td>\n",
       "      <td>NaN</td>\n",
       "      <td>NaN</td>\n",
       "      <td>NaN</td>\n",
       "      <td>NaN</td>\n",
       "      <td>NaN</td>\n",
       "      <td>NaN</td>\n",
       "      <td>or</td>\n",
       "    </tr>\n",
       "    <tr>\n",
       "      <th>9</th>\n",
       "      <td>7219485069</td>\n",
       "      <td>erie</td>\n",
       "      <td>3000</td>\n",
       "      <td>NaN</td>\n",
       "      <td>NaN</td>\n",
       "      <td>NaN</td>\n",
       "      <td>NaN</td>\n",
       "      <td>NaN</td>\n",
       "      <td>NaN</td>\n",
       "      <td>NaN</td>\n",
       "      <td>NaN</td>\n",
       "      <td>NaN</td>\n",
       "      <td>NaN</td>\n",
       "      <td>NaN</td>\n",
       "      <td>NaN</td>\n",
       "      <td>NaN</td>\n",
       "      <td>NaN</td>\n",
       "      <td>pa</td>\n",
       "    </tr>\n",
       "  </tbody>\n",
       "</table>\n",
       "</div>"
      ],
      "text/plain": [
       "           id                  region  price  year manufacturer model  \\\n",
       "0  7222695916                prescott   6000   NaN          NaN   NaN   \n",
       "1  7218891961            fayetteville  11900   NaN          NaN   NaN   \n",
       "2  7221797935            florida keys  21000   NaN          NaN   NaN   \n",
       "3  7222270760  worcester / central MA   1500   NaN          NaN   NaN   \n",
       "4  7210384030              greensboro   4900   NaN          NaN   NaN   \n",
       "5  7222379453           hudson valley   1600   NaN          NaN   NaN   \n",
       "6  7221952215           hudson valley   1000   NaN          NaN   NaN   \n",
       "7  7220195662           hudson valley  15995   NaN          NaN   NaN   \n",
       "8  7209064557         medford-ashland   5000   NaN          NaN   NaN   \n",
       "9  7219485069                    erie   3000   NaN          NaN   NaN   \n",
       "\n",
       "  condition cylinders fuel  odometer title_status transmission  VIN drive  \\\n",
       "0       NaN       NaN  NaN       NaN          NaN          NaN  NaN   NaN   \n",
       "1       NaN       NaN  NaN       NaN          NaN          NaN  NaN   NaN   \n",
       "2       NaN       NaN  NaN       NaN          NaN          NaN  NaN   NaN   \n",
       "3       NaN       NaN  NaN       NaN          NaN          NaN  NaN   NaN   \n",
       "4       NaN       NaN  NaN       NaN          NaN          NaN  NaN   NaN   \n",
       "5       NaN       NaN  NaN       NaN          NaN          NaN  NaN   NaN   \n",
       "6       NaN       NaN  NaN       NaN          NaN          NaN  NaN   NaN   \n",
       "7       NaN       NaN  NaN       NaN          NaN          NaN  NaN   NaN   \n",
       "8       NaN       NaN  NaN       NaN          NaN          NaN  NaN   NaN   \n",
       "9       NaN       NaN  NaN       NaN          NaN          NaN  NaN   NaN   \n",
       "\n",
       "  size type paint_color state  \n",
       "0  NaN  NaN         NaN    az  \n",
       "1  NaN  NaN         NaN    ar  \n",
       "2  NaN  NaN         NaN    fl  \n",
       "3  NaN  NaN         NaN    ma  \n",
       "4  NaN  NaN         NaN    nc  \n",
       "5  NaN  NaN         NaN    ny  \n",
       "6  NaN  NaN         NaN    ny  \n",
       "7  NaN  NaN         NaN    ny  \n",
       "8  NaN  NaN         NaN    or  \n",
       "9  NaN  NaN         NaN    pa  "
      ]
     },
     "execution_count": 5,
     "metadata": {},
     "output_type": "execute_result"
    }
   ],
   "source": [
    "sales_df = pd.read_csv('data/vehicles.csv')\n",
    "sales_df.head(10)"
   ]
  },
  {
   "cell_type": "code",
   "execution_count": 6,
   "metadata": {},
   "outputs": [
    {
     "name": "stdout",
     "output_type": "stream",
     "text": [
      "<class 'pandas.core.frame.DataFrame'>\n",
      "RangeIndex: 426880 entries, 0 to 426879\n",
      "Data columns (total 18 columns):\n",
      " #   Column        Non-Null Count   Dtype  \n",
      "---  ------        --------------   -----  \n",
      " 0   id            426880 non-null  int64  \n",
      " 1   region        426880 non-null  object \n",
      " 2   price         426880 non-null  int64  \n",
      " 3   year          425675 non-null  float64\n",
      " 4   manufacturer  409234 non-null  object \n",
      " 5   model         421603 non-null  object \n",
      " 6   condition     252776 non-null  object \n",
      " 7   cylinders     249202 non-null  object \n",
      " 8   fuel          423867 non-null  object \n",
      " 9   odometer      422480 non-null  float64\n",
      " 10  title_status  418638 non-null  object \n",
      " 11  transmission  424324 non-null  object \n",
      " 12  VIN           265838 non-null  object \n",
      " 13  drive         296313 non-null  object \n",
      " 14  size          120519 non-null  object \n",
      " 15  type          334022 non-null  object \n",
      " 16  paint_color   296677 non-null  object \n",
      " 17  state         426880 non-null  object \n",
      "dtypes: float64(2), int64(2), object(14)\n",
      "memory usage: 58.6+ MB\n"
     ]
    }
   ],
   "source": [
    "sales_df.info()"
   ]
  },
  {
   "cell_type": "code",
   "execution_count": null,
   "metadata": {},
   "outputs": [],
   "source": []
  },
  {
   "cell_type": "markdown",
   "metadata": {},
   "source": [
    "### Data Understanding\n",
    "\n",
    "After considering the business understanding, we want to get familiar with our data.  Write down some steps that you would take to get to know the dataset and identify any quality issues within.  Take time to get to know the dataset and explore what information it contains and how this could be used to inform your business understanding."
   ]
  },
  {
   "cell_type": "code",
   "execution_count": 9,
   "metadata": {},
   "outputs": [
    {
     "data": {
      "text/plain": [
       "id                   0\n",
       "region               0\n",
       "price                0\n",
       "year              1205\n",
       "manufacturer     17646\n",
       "model             5277\n",
       "condition       174104\n",
       "cylinders       177678\n",
       "fuel              3013\n",
       "odometer          4400\n",
       "title_status      8242\n",
       "transmission      2556\n",
       "VIN             161042\n",
       "drive           130567\n",
       "size            306361\n",
       "type             92858\n",
       "paint_color     130203\n",
       "state                0\n",
       "dtype: int64"
      ]
     },
     "metadata": {},
     "output_type": "display_data"
    }
   ],
   "source": [
    "missing_vals = sales_df.isna().sum()\n",
    "display(missing_vals)"
   ]
  },
  {
   "cell_type": "code",
   "execution_count": 10,
   "metadata": {},
   "outputs": [
    {
     "data": {
      "text/plain": [
       "array([  nan, 2014., 2010., 2020., 2017., 2013., 2012., 2016., 2019.,\n",
       "       2011., 1992., 2018., 2004., 2015., 2001., 2006., 1968., 2003.,\n",
       "       2008., 2007., 2005., 1966., 2009., 1998., 2002., 1999., 2021.,\n",
       "       1997., 1976., 1969., 1995., 1978., 1954., 1979., 1970., 1974.,\n",
       "       1996., 1987., 2000., 1955., 1960., 1991., 1972., 1988., 1994.,\n",
       "       1929., 1984., 1986., 1989., 1973., 1946., 1933., 1958., 1937.,\n",
       "       1985., 1957., 1953., 1942., 1963., 1977., 1993., 1903., 1990.,\n",
       "       1965., 1982., 1948., 1983., 1936., 1932., 1951., 1931., 1980.,\n",
       "       1967., 1971., 1947., 1981., 1926., 1962., 1975., 1964., 1934.,\n",
       "       1952., 1940., 1959., 1950., 1930., 1956., 1922., 1928., 2022.,\n",
       "       1901., 1941., 1924., 1927., 1939., 1923., 1949., 1961., 1935.,\n",
       "       1918., 1900., 1938., 1913., 1916., 1943., 1925., 1921., 1915.,\n",
       "       1945., 1902., 1905., 1920., 1944., 1910., 1909.])"
      ]
     },
     "metadata": {},
     "output_type": "display_data"
    },
    {
     "data": {
      "text/plain": [
       "array([nan, 'gmc', 'chevrolet', 'toyota', 'ford', 'jeep', 'nissan', 'ram',\n",
       "       'mazda', 'cadillac', 'honda', 'dodge', 'lexus', 'jaguar', 'buick',\n",
       "       'chrysler', 'volvo', 'audi', 'infiniti', 'lincoln', 'alfa-romeo',\n",
       "       'subaru', 'acura', 'hyundai', 'mercedes-benz', 'bmw', 'mitsubishi',\n",
       "       'volkswagen', 'porsche', 'kia', 'rover', 'ferrari', 'mini',\n",
       "       'pontiac', 'fiat', 'tesla', 'saturn', 'mercury', 'harley-davidson',\n",
       "       'datsun', 'aston-martin', 'land rover', 'morgan'], dtype=object)"
      ]
     },
     "metadata": {},
     "output_type": "display_data"
    },
    {
     "data": {
      "text/plain": [
       "array([nan, 'sierra 1500 crew cab slt', 'silverado 1500', ...,\n",
       "       'gand wagoneer', '96 Suburban', 'Paige Glenbrook Touring'],\n",
       "      dtype=object)"
      ]
     },
     "metadata": {},
     "output_type": "display_data"
    },
    {
     "data": {
      "text/plain": [
       "array([nan, 'good', 'excellent', 'fair', 'like new', 'new', 'salvage'],\n",
       "      dtype=object)"
      ]
     },
     "metadata": {},
     "output_type": "display_data"
    },
    {
     "data": {
      "text/plain": [
       "array([nan, '8 cylinders', '6 cylinders', '4 cylinders', '5 cylinders',\n",
       "       'other', '3 cylinders', '10 cylinders', '12 cylinders'],\n",
       "      dtype=object)"
      ]
     },
     "metadata": {},
     "output_type": "display_data"
    },
    {
     "data": {
      "text/plain": [
       "array([nan, 'gas', 'other', 'diesel', 'hybrid', 'electric'], dtype=object)"
      ]
     },
     "metadata": {},
     "output_type": "display_data"
    },
    {
     "data": {
      "text/plain": [
       "array([nan, 'clean', 'rebuilt', 'lien', 'salvage', 'missing',\n",
       "       'parts only'], dtype=object)"
      ]
     },
     "metadata": {},
     "output_type": "display_data"
    },
    {
     "data": {
      "text/plain": [
       "array([nan, 'other', 'automatic', 'manual'], dtype=object)"
      ]
     },
     "metadata": {},
     "output_type": "display_data"
    },
    {
     "data": {
      "text/plain": [
       "array([nan, 'rwd', '4wd', 'fwd'], dtype=object)"
      ]
     },
     "metadata": {},
     "output_type": "display_data"
    },
    {
     "data": {
      "text/plain": [
       "array([nan, 'full-size', 'mid-size', 'compact', 'sub-compact'],\n",
       "      dtype=object)"
      ]
     },
     "metadata": {},
     "output_type": "display_data"
    },
    {
     "data": {
      "text/plain": [
       "array([nan, 'pickup', 'truck', 'other', 'coupe', 'SUV', 'hatchback',\n",
       "       'mini-van', 'sedan', 'offroad', 'bus', 'van', 'convertible',\n",
       "       'wagon'], dtype=object)"
      ]
     },
     "metadata": {},
     "output_type": "display_data"
    },
    {
     "data": {
      "text/plain": [
       "array([nan, 'white', 'blue', 'red', 'black', 'silver', 'grey', 'brown',\n",
       "       'yellow', 'orange', 'green', 'custom', 'purple'], dtype=object)"
      ]
     },
     "metadata": {},
     "output_type": "display_data"
    },
    {
     "data": {
      "text/plain": [
       "array(['az', 'ar', 'fl', 'ma', 'nc', 'ny', 'or', 'pa', 'tx', 'wa', 'wi',\n",
       "       'al', 'ak', 'ca', 'co', 'ct', 'dc', 'de', 'ga', 'hi', 'id', 'il',\n",
       "       'in', 'ia', 'ks', 'ky', 'la', 'me', 'md', 'mi', 'mn', 'ms', 'mo',\n",
       "       'mt', 'ne', 'nv', 'nj', 'nm', 'nh', 'nd', 'oh', 'ok', 'ri', 'sc',\n",
       "       'sd', 'tn', 'ut', 'vt', 'va', 'wv', 'wy'], dtype=object)"
      ]
     },
     "metadata": {},
     "output_type": "display_data"
    }
   ],
   "source": [
    "display(sales_df['year'].unique())\n",
    "display(sales_df['manufacturer'].unique())\n",
    "display(sales_df['model'].unique())\n",
    "display(sales_df['condition'].unique())\n",
    "display(sales_df['cylinders'].unique())\n",
    "display(sales_df['fuel'].unique())\n",
    "display(sales_df['title_status'].unique())\n",
    "display(sales_df['transmission'].unique())\n",
    "display(sales_df['drive'].unique())\n",
    "display(sales_df['size'].unique())\n",
    "display(sales_df['type'].unique())\n",
    "display(sales_df['paint_color'].unique())\n",
    "display(sales_df['state'].unique())\n",
    "\n"
   ]
  },
  {
   "cell_type": "code",
   "execution_count": 11,
   "metadata": {},
   "outputs": [
    {
     "data": {
      "text/plain": [
       "114"
      ]
     },
     "metadata": {},
     "output_type": "display_data"
    },
    {
     "data": {
      "text/plain": [
       "42"
      ]
     },
     "metadata": {},
     "output_type": "display_data"
    },
    {
     "data": {
      "text/plain": [
       "29649"
      ]
     },
     "metadata": {},
     "output_type": "display_data"
    },
    {
     "data": {
      "text/plain": [
       "6"
      ]
     },
     "metadata": {},
     "output_type": "display_data"
    },
    {
     "data": {
      "text/plain": [
       "8"
      ]
     },
     "metadata": {},
     "output_type": "display_data"
    },
    {
     "data": {
      "text/plain": [
       "5"
      ]
     },
     "metadata": {},
     "output_type": "display_data"
    },
    {
     "data": {
      "text/plain": [
       "6"
      ]
     },
     "metadata": {},
     "output_type": "display_data"
    },
    {
     "data": {
      "text/plain": [
       "3"
      ]
     },
     "metadata": {},
     "output_type": "display_data"
    },
    {
     "data": {
      "text/plain": [
       "3"
      ]
     },
     "metadata": {},
     "output_type": "display_data"
    },
    {
     "data": {
      "text/plain": [
       "4"
      ]
     },
     "metadata": {},
     "output_type": "display_data"
    },
    {
     "data": {
      "text/plain": [
       "13"
      ]
     },
     "metadata": {},
     "output_type": "display_data"
    },
    {
     "data": {
      "text/plain": [
       "12"
      ]
     },
     "metadata": {},
     "output_type": "display_data"
    },
    {
     "data": {
      "text/plain": [
       "51"
      ]
     },
     "metadata": {},
     "output_type": "display_data"
    }
   ],
   "source": [
    "display(sales_df['year'].nunique())\n",
    "display(sales_df['manufacturer'].nunique())\n",
    "display(sales_df['model'].nunique())\n",
    "display(sales_df['condition'].nunique())\n",
    "display(sales_df['cylinders'].nunique())\n",
    "display(sales_df['fuel'].nunique())\n",
    "display(sales_df['title_status'].nunique())\n",
    "display(sales_df['transmission'].nunique())\n",
    "display(sales_df['drive'].nunique())\n",
    "display(sales_df['size'].nunique())\n",
    "display(sales_df['type'].nunique())\n",
    "display(sales_df['paint_color'].nunique())\n",
    "display(sales_df['state'].nunique())\n",
    "\n",
    "#Note: the model column has 29K unique values so getting dummies will create 29K+ columns"
   ]
  },
  {
   "cell_type": "code",
   "execution_count": null,
   "metadata": {},
   "outputs": [],
   "source": [
    "display(sales_df['price'].unique().sort())\n",
    "sales_df"
   ]
  },
  {
   "cell_type": "code",
   "execution_count": null,
   "metadata": {},
   "outputs": [],
   "source": [
    "px.scatter(sales_df, x = \"year\", y = \"price\", color=\"condition\")\n",
    "# Note:\n",
    "# chart below shows price outliers in billions of dollars. This is obviously data entry errors so must be excluded."
   ]
  },
  {
   "cell_type": "code",
   "execution_count": null,
   "metadata": {},
   "outputs": [],
   "source": [
    "px.scatter(sales_df, x = \"year\", y = \"price\", marginal_y = \"box\", marginal_x = \"box\")\n",
    "# box plots shows the extremes as well           "
   ]
  },
  {
   "cell_type": "code",
   "execution_count": null,
   "metadata": {
    "scrolled": true
   },
   "outputs": [],
   "source": [
    "# price box plot and remove outliers\n",
    "# exclude price outliers > $500K \n",
    "sales_df_500K = sales_df[sales_df['price'] < 500000]\n",
    "px.scatter(sales_df_500K, x = \"year\", y = \"price\", marginal_y = \"box\", marginal_x = \"box\")\n"
   ]
  },
  {
   "cell_type": "code",
   "execution_count": 17,
   "metadata": {},
   "outputs": [
    {
     "data": {
      "image/png": "[encoded data removed]",
      "text/plain": [
       "<Figure size 640x480 with 1 Axes>"
      ]
     },
     "metadata": {},
     "output_type": "display_data"
    }
   ],
   "source": [
    "sales_df_500K['price'].hist(bins=40)\n",
    "plt.title('Histogram of price')\n",
    "plt.xlabel('Price')\n",
    "plt.ylabel('Frequency')\n",
    "plt.show()\n",
    "\n",
    "#Note; Shows most sale prices are below $100K"
   ]
  },
  {
   "cell_type": "code",
   "execution_count": 18,
   "metadata": {},
   "outputs": [
    {
     "data": {
      "image/png": "[encoded data removed]",
      "text/plain": [
       "<Figure size 640x480 with 1 Axes>"
      ]
     },
     "metadata": {},
     "output_type": "display_data"
    }
   ],
   "source": [
    "# exclude price outliers > $150K \n",
    "sales_df_150K = sales_df_500K[sales_df['price'] < 150000]\n",
    "\n",
    "sales_df_150K['price'].hist(bins=40)\n",
    "plt.title('Histogram of price')\n",
    "plt.xlabel('Price')\n",
    "plt.ylabel('Frequency')\n",
    "plt.show()\n"
   ]
  },
  {
   "cell_type": "code",
   "execution_count": 19,
   "metadata": {},
   "outputs": [
    {
     "data": {
      "text/plain": [
       "98028.66753497712"
      ]
     },
     "metadata": {},
     "output_type": "display_data"
    },
    {
     "data": {
      "text/plain": [
       "85559.0"
      ]
     },
     "metadata": {},
     "output_type": "display_data"
    },
    {
     "data": {
      "text/plain": [
       "45520098000.74015"
      ]
     },
     "metadata": {},
     "output_type": "display_data"
    },
    {
     "data": {
      "text/plain": [
       "213354.3953161972"
      ]
     },
     "metadata": {},
     "output_type": "display_data"
    },
    {
     "data": {
      "image/png": "[encoded data removed]",
      "text/plain": [
       "<Figure size 640x480 with 1 Axes>"
      ]
     },
     "metadata": {},
     "output_type": "display_data"
    }
   ],
   "source": [
    "\n",
    "sales_df_150K.plot(kind='hist', y=['odometer'], bins=5)\n",
    "\n",
    "display(sales_df_150K['odometer'].mean())\n",
    "display(sales_df_150K['odometer'].median())\n",
    "display(sales_df_150K['odometer'].var())\n",
    "display(sales_df_150K['odometer'].std())"
   ]
  },
  {
   "cell_type": "code",
   "execution_count": 21,
   "metadata": {},
   "outputs": [
    {
     "data": {
      "image/png": "[encoded data removed]",
      "text/plain": [
       "<Figure size 640x480 with 1 Axes>"
      ]
     },
     "metadata": {},
     "output_type": "display_data"
    }
   ],
   "source": [
    "# exclude odometer outliers greater than 4X mean (~400K)\n",
    "sales_df_150K_v2 = sales_df_150K[sales_df_150K['odometer'] < 400000]\n",
    "\n",
    "sales_df_150K_v2['odometer'].hist(bins=40)\n",
    "plt.title('Histogram of Odometer')\n",
    "plt.xlabel('Odometer')\n",
    "plt.ylabel('Frequency')\n",
    "plt.show()\n"
   ]
  },
  {
   "cell_type": "code",
   "execution_count": 23,
   "metadata": {},
   "outputs": [
    {
     "data": {
      "text/plain": [
       "array([1900., 1901., 1905., 1910., 1913., 1915., 1916., 1918., 1920.,\n",
       "       1921., 1922., 1923., 1924., 1925., 1926., 1927., 1928., 1929.,\n",
       "       1930., 1931., 1932., 1933., 1934., 1935., 1936., 1937., 1938.,\n",
       "       1939., 1940., 1941., 1942., 1943., 1944., 1945., 1946., 1947.,\n",
       "       1948., 1949., 1950., 1951., 1952., 1953., 1954., 1955., 1956.,\n",
       "       1957., 1958., 1959., 1960., 1961., 1962., 1963., 1964., 1965.,\n",
       "       1966., 1967., 1968., 1969., 1970., 1971., 1972., 1973., 1974.,\n",
       "       1975., 1976., 1977., 1978., 1979., 1980., 1981., 1982., 1983.,\n",
       "       1984., 1985., 1986., 1987., 1988., 1989., 1990., 1991., 1992.,\n",
       "       1993., 1994., 1995., 1996., 1997., 1998., 1999., 2000., 2001.,\n",
       "       2002., 2003., 2004., 2005., 2006., 2007., 2008., 2009., 2010.,\n",
       "       2011., 2012., 2013., 2014., 2015., 2016., 2017., 2018., 2019.,\n",
       "       2020., 2021., 2022.,   nan])"
      ]
     },
     "metadata": {},
     "output_type": "display_data"
    },
    {
     "data": {
      "text/plain": [
       "2011.2771696759166"
      ]
     },
     "metadata": {},
     "output_type": "display_data"
    },
    {
     "data": {
      "text/plain": [
       "2013.0"
      ]
     },
     "metadata": {},
     "output_type": "display_data"
    },
    {
     "data": {
      "text/plain": [
       "id                   0\n",
       "region               0\n",
       "price                0\n",
       "year              1120\n",
       "manufacturer     16641\n",
       "model             5057\n",
       "condition       170774\n",
       "cylinders       173806\n",
       "fuel              2367\n",
       "odometer             0\n",
       "title_status      7601\n",
       "transmission      1670\n",
       "VIN             157798\n",
       "drive           127991\n",
       "size            301431\n",
       "type             90882\n",
       "paint_color     127340\n",
       "state                0\n",
       "dtype: int64"
      ]
     },
     "metadata": {},
     "output_type": "display_data"
    }
   ],
   "source": [
    "display(np.sort(sales_df_150K_v2['year'].unique()))\n",
    "display(sales_df_150K_v2['year'].mean())\n",
    "display(sales_df_150K_v2['year'].median())\n",
    "missing_vals2 = sales_df_150K_v2.isna().sum()\n",
    "display(missing_vals2)"
   ]
  },
  {
   "cell_type": "code",
   "execution_count": 26,
   "metadata": {},
   "outputs": [],
   "source": [
    "# reassign to sales_df so can re-use my code\n",
    "sales_df = sales_df_150K_v2\n"
   ]
  },
  {
   "cell_type": "code",
   "execution_count": null,
   "metadata": {},
   "outputs": [],
   "source": [
    "fig = px.scatter(sales_df, x='odometer', y='price', color = 'condition', trendline = 'ols')\n",
    "fig.update_traces(marker={'size': 1}) "
   ]
  },
  {
   "cell_type": "code",
   "execution_count": null,
   "metadata": {},
   "outputs": [],
   "source": [
    "fig2 = px.scatter(sales_df, x='year', y='price', color = 'condition', trendline = 'ols')\n",
    "fig2.update_traces(marker={'size': 3}) "
   ]
  },
  {
   "cell_type": "code",
   "execution_count": 33,
   "metadata": {},
   "outputs": [],
   "source": [
    "# Notes:\n",
    "# there appear to be three groups of cars:\n",
    "# a) 1920 to 1940\n",
    "# b) 1945 to 1990\n",
    "# c) 1990+ to 2020\n",
    "\n",
    "# so can limit our model for years 1990+ to 2020 for better accuracy. But for this analysis we will use entire range of years.\n"
   ]
  },
  {
   "cell_type": "code",
   "execution_count": 34,
   "metadata": {},
   "outputs": [
    {
     "data": {
      "text/plain": [
       "model\n",
       "f-150                      7847\n",
       "silverado 1500             5042\n",
       "1500                       4176\n",
       "camry                      3067\n",
       "silverado                  2969\n",
       "                           ... \n",
       "roasdster                     1\n",
       "xcab                          1\n",
       "trailblazer lx v6             1\n",
       "INFINTI QX80                  1\n",
       "Paige Glenbrook Touring       1\n",
       "Name: count, Length: 29011, dtype: int64"
      ]
     },
     "metadata": {},
     "output_type": "display_data"
    },
    {
     "data": {
      "text/plain": [
       "condition\n",
       "good         120694\n",
       "excellent     99518\n",
       "like new      21089\n",
       "fair           6605\n",
       "new            1294\n",
       "salvage         575\n",
       "Name: count, dtype: int64"
      ]
     },
     "metadata": {},
     "output_type": "display_data"
    },
    {
     "data": {
      "text/plain": [
       "fuel\n",
       "gas         351621\n",
       "other        30503\n",
       "diesel       29223\n",
       "hybrid        5148\n",
       "electric      1687\n",
       "Name: count, dtype: int64"
      ]
     },
     "metadata": {},
     "output_type": "display_data"
    },
    {
     "data": {
      "text/plain": [
       "title_status\n",
       "clean         399585\n",
       "rebuilt         7201\n",
       "salvage         3821\n",
       "lien            1408\n",
       "missing          755\n",
       "parts only       178\n",
       "Name: count, dtype: int64"
      ]
     },
     "metadata": {},
     "output_type": "display_data"
    },
    {
     "data": {
      "text/plain": [
       "transmission\n",
       "automatic    332119\n",
       "other         62559\n",
       "manual        24201\n",
       "Name: count, dtype: int64"
      ]
     },
     "metadata": {},
     "output_type": "display_data"
    },
    {
     "data": {
      "text/plain": [
       "drive\n",
       "4wd    130474\n",
       "fwd    104230\n",
       "rwd     57854\n",
       "Name: count, dtype: int64"
      ]
     },
     "metadata": {},
     "output_type": "display_data"
    },
    {
     "data": {
      "text/plain": [
       "size\n",
       "full-size      62713\n",
       "mid-size       34231\n",
       "compact        19073\n",
       "sub-compact     3101\n",
       "Name: count, dtype: int64"
      ]
     },
     "metadata": {},
     "output_type": "display_data"
    },
    {
     "data": {
      "text/plain": [
       "type\n",
       "sedan          85861\n",
       "SUV            76281\n",
       "pickup         42994\n",
       "truck          34879\n",
       "other          21601\n",
       "coupe          18925\n",
       "hatchback      16504\n",
       "wagon          10632\n",
       "van             8490\n",
       "convertible     7630\n",
       "mini-van        4765\n",
       "offroad          601\n",
       "bus              504\n",
       "Name: count, dtype: int64"
      ]
     },
     "metadata": {},
     "output_type": "display_data"
    },
    {
     "data": {
      "text/plain": [
       "state\n",
       "ca    49290\n",
       "fl    28012\n",
       "tx    22451\n",
       "ny    19290\n",
       "oh    17581\n",
       "mi    16793\n",
       "or    16692\n",
       "nc    14752\n",
       "wa    13549\n",
       "pa    13544\n",
       "wi    11287\n",
       "tn    11009\n",
       "co    10955\n",
       "va    10480\n",
       "il    10229\n",
       "nj     9698\n",
       "id     8900\n",
       "az     8542\n",
       "ia     8412\n",
       "ma     8100\n",
       "mn     7670\n",
       "ga     6918\n",
       "ok     6565\n",
       "sc     6248\n",
       "mt     6241\n",
       "ks     6180\n",
       "in     5657\n",
       "ct     5171\n",
       "al     4899\n",
       "md     4761\n",
       "nm     4350\n",
       "mo     4245\n",
       "ky     4130\n",
       "ar     4026\n",
       "ak     3449\n",
       "la     3181\n",
       "nv     3153\n",
       "nh     2974\n",
       "me     2960\n",
       "hi     2958\n",
       "dc     2952\n",
       "vt     2509\n",
       "ri     2317\n",
       "sd     1284\n",
       "ut     1142\n",
       "wv     1049\n",
       "ne     1030\n",
       "ms     1008\n",
       "de      942\n",
       "wy      610\n",
       "nd      404\n",
       "Name: count, dtype: int64"
      ]
     },
     "metadata": {},
     "output_type": "display_data"
    }
   ],
   "source": [
    "display(sales_df['model'].value_counts())\n",
    "display(sales_df['condition'].value_counts())\n",
    "display(sales_df['fuel'].value_counts())\n",
    "display(sales_df['title_status'].value_counts())\n",
    "display(sales_df['transmission'].value_counts())\n",
    "display(sales_df['drive'].value_counts())\n",
    "display(sales_df['size'].value_counts())\n",
    "display(sales_df['type'].value_counts())\n",
    "display(sales_df['state'].value_counts())\n"
   ]
  },
  {
   "cell_type": "code",
   "execution_count": 329,
   "metadata": {},
   "outputs": [
    {
     "name": "stdout",
     "output_type": "stream",
     "text": [
      "<class 'pandas.core.frame.DataFrame'>\n",
      "Index: 420549 entries, 27 to 426879\n",
      "Data columns (total 18 columns):\n",
      " #   Column        Non-Null Count   Dtype  \n",
      "---  ------        --------------   -----  \n",
      " 0   id            420549 non-null  int64  \n",
      " 1   region        420549 non-null  object \n",
      " 2   price         420549 non-null  int64  \n",
      " 3   year          419429 non-null  float64\n",
      " 4   manufacturer  403908 non-null  object \n",
      " 5   model         415492 non-null  object \n",
      " 6   condition     249775 non-null  object \n",
      " 7   cylinders     246743 non-null  object \n",
      " 8   fuel          418182 non-null  object \n",
      " 9   odometer      420549 non-null  float64\n",
      " 10  title_status  412948 non-null  object \n",
      " 11  transmission  418879 non-null  object \n",
      " 12  VIN           262751 non-null  object \n",
      " 13  drive         292558 non-null  object \n",
      " 14  size          119118 non-null  object \n",
      " 15  type          329667 non-null  object \n",
      " 16  paint_color   293209 non-null  object \n",
      " 17  state         420549 non-null  object \n",
      "dtypes: float64(2), int64(2), object(14)\n",
      "memory usage: 61.0+ MB\n"
     ]
    }
   ],
   "source": [
    "sales_df.info()\n",
    "# shows record counts after excluding outliers\n"
   ]
  },
  {
   "cell_type": "code",
   "execution_count": null,
   "metadata": {},
   "outputs": [],
   "source": []
  },
  {
   "cell_type": "raw",
   "metadata": {},
   "source": [
    "## Information Cell to help with Coding\n",
    "\n",
    "'id',\n",
    " 'region',\n",
    " 'price',\n",
    " 'year',\n",
    " 'manufacturer',\n",
    " 'model',\n",
    " 'condition',\n",
    " 'cylinders',\n",
    " 'fuel',\n",
    " 'odometer',\n",
    " 'title_status',\n",
    " 'transmission',\n",
    " 'VIN',\n",
    " 'drive',\n",
    " 'size',\n",
    " 'type',\n",
    " 'paint_color',\n",
    " 'state']\n",
    "\n",
    "year              1205\n",
    "manufacturer     17646\n",
    "model             5277\n",
    "condition       174104\n",
    "cylinders       177678\n",
    "fuel              3013\n",
    "odometer          4400\n",
    "title_status      8242\n",
    "transmission      2556\n",
    "VIN             161042\n",
    "drive           130567\n",
    "size            306361\n",
    "type             92858\n",
    "paint_color     130203\n",
    "\n",
    " 3   year          425675 non-null  float64\n",
    " 4   manufacturer  409234 non-null  object \n",
    " 5   model         421603 non-null  object \n",
    " 6   condition     252776 non-null  object \n",
    " 7   cylinders     249202 non-null  object \n",
    " 8   fuel          423867 non-null  object \n",
    " 9   odometer      422480 non-null  float64\n",
    " 10  title_status  418638 non-null  object \n",
    " 11  transmission  424324 non-null  object \n",
    " 12  VIN           265838 non-null  object \n",
    " 13  drive         296313 non-null  object \n",
    " 14  size          120519 non-null  object \n",
    " 15  type          334022 non-null  object \n",
    " 16  paint_color   296677 non-null  object \n",
    " 17  state         426880 non-null  object \n"
   ]
  },
  {
   "cell_type": "markdown",
   "metadata": {},
   "source": [
    "### Data Preparation\n",
    "\n",
    "After our initial exploration and fine-tuning of the business understanding, it is time to construct our final dataset prior to modeling.  Here, we want to make sure to handle any integrity issues and cleaning, the engineering of new features, any transformations that we believe should happen (scaling, logarithms, normalization, etc.), and general preparation for modeling with `sklearn`. "
   ]
  },
  {
   "cell_type": "code",
   "execution_count": 257,
   "metadata": {},
   "outputs": [
    {
     "name": "stdout",
     "output_type": "stream",
     "text": [
      "<class 'pandas.core.frame.DataFrame'>\n",
      "Index: 419429 entries, 27 to 426879\n",
      "Data columns (total 14 columns):\n",
      " #   Column        Non-Null Count   Dtype  \n",
      "---  ------        --------------   -----  \n",
      " 0   price         419429 non-null  int64  \n",
      " 1   year          419429 non-null  float64\n",
      " 2   manufacturer  419429 non-null  object \n",
      " 3   condition     419429 non-null  object \n",
      " 4   cylinders     419429 non-null  object \n",
      " 5   fuel          419429 non-null  object \n",
      " 6   odometer      419429 non-null  float64\n",
      " 7   title_status  419429 non-null  object \n",
      " 8   transmission  419429 non-null  object \n",
      " 9   drive         419429 non-null  object \n",
      " 10  size          419429 non-null  object \n",
      " 11  type          419429 non-null  object \n",
      " 12  paint_color   419429 non-null  object \n",
      " 13  state         419429 non-null  object \n",
      "dtypes: float64(2), int64(1), object(11)\n",
      "memory usage: 48.0+ MB\n"
     ]
    }
   ],
   "source": [
    "# re-read data if needed\n",
    "# sales_df = pd.read_csv('data/vehicles.csv')\n",
    "\n",
    "# copy to sales data version 3\n",
    "sales_df_v3 = sales_df\n",
    "\n",
    "# if year is unknown assume mean year for the vehicle. Another option is to drop the records with NAN year but that would drop a lot of records so keeping it\n",
    "#Not needed: #sales_df['year'].fillna(sales_df['year'].mean().round(), inplace=True)\n",
    "# Just filter out NaN records for year column\n",
    "sales_df_v3 = sales_df_v3.dropna(subset=['year'])\n",
    "#sales_df_v3.info()\n",
    "\n",
    "# fill with 'unknown' or 'other' as applicable to each column\n",
    "sales_df_v3['manufacturer'].fillna('unknown', inplace=True)\n",
    "sales_df_v3['model'].fillna('unknown', inplace=True)\n",
    "sales_df_v3['condition'].fillna('unknown', inplace=True)\n",
    "sales_df_v3['cylinders'].fillna('other', inplace=True)\n",
    "sales_df_v3['fuel'].fillna('other', inplace=True)\n",
    "\n",
    "# Just filter out NaN records for odometer column\n",
    "sales_df_v3 = sales_df_v3.dropna(subset=['odometer'])\n",
    "\n",
    "sales_df_v3['title_status'].fillna('unknown', inplace=True)\n",
    "sales_df_v3['transmission'].fillna('other', inplace=True)\n",
    "sales_df_v3['VIN'].fillna('unknown', inplace=True)\n",
    "sales_df_v3['drive'].fillna('unknown', inplace=True)\n",
    "sales_df_v3['size'].fillna('unknown', inplace=True)\n",
    "sales_df_v3['type'].fillna('other', inplace=True)\n",
    "sales_df_v3['paint_color'].fillna('unknown', inplace=True)\n",
    "\n",
    "# drop Id column and VIN column\n",
    "sales_df_v3.drop('id', axis = 1, inplace=True)\n",
    "sales_df_v3.drop('VIN', axis = 1, inplace=True)\n",
    "sales_df_v3.drop('region', axis = 1, inplace=True)\n",
    "sales_df_v3.drop('model', axis = 1, inplace=True)\n",
    "\n",
    "sales_df_v3.info()"
   ]
  },
  {
   "cell_type": "code",
   "execution_count": null,
   "metadata": {},
   "outputs": [],
   "source": [
    "# drop sales data "
   ]
  },
  {
   "cell_type": "code",
   "execution_count": null,
   "metadata": {},
   "outputs": [],
   "source": []
  },
  {
   "cell_type": "code",
   "execution_count": null,
   "metadata": {},
   "outputs": [],
   "source": []
  },
  {
   "cell_type": "code",
   "execution_count": null,
   "metadata": {},
   "outputs": [],
   "source": []
  },
  {
   "cell_type": "markdown",
   "metadata": {},
   "source": [
    "### Modeling\n",
    "\n",
    "With your (almost?) final dataset in hand, it is now time to build some models.  Here, you should build a number of different regression models with the price as the target.  In building your models, you should explore different parameters and be sure to cross-validate your findings."
   ]
  },
  {
   "cell_type": "code",
   "execution_count": 287,
   "metadata": {},
   "outputs": [],
   "source": [
    "from sklearn.linear_model import LinearRegression\n",
    "from sklearn.metrics import mean_squared_error\n",
    "from sklearn.feature_selection import SequentialFeatureSelector\n",
    "from sklearn.preprocessing import PolynomialFeatures\n",
    "from sklearn.model_selection import train_test_split\n",
    "from sklearn.linear_model import Ridge, Lasso\n",
    "from sklearn.metrics import mean_squared_error\n",
    "from sklearn.pipeline import Pipeline\n",
    "from sklearn.preprocessing import StandardScaler\n",
    "from sklearn import set_config\n",
    "set_config(display=\"diagram\")\n",
    "import warnings\n",
    "warnings.filterwarnings('ignore')"
   ]
  },
  {
   "cell_type": "code",
   "execution_count": 179,
   "metadata": {},
   "outputs": [
    {
     "data": {
      "text/plain": [
       "184751777.96052045"
      ]
     },
     "metadata": {},
     "output_type": "display_data"
    }
   ],
   "source": [
    "#X = sales_df_v3[sales_df_v3['year', 'odometer'], axis = 1)\n",
    "\n",
    "X = pd.DataFrame(sales_df_v3, columns=['year', 'odometer'])\n",
    "y = sales_df_v3['price']\n",
    "\n",
    "#model = LinearRegression(fit_intercept = False)\n",
    "#model.fit(X, y)\n",
    "mse = mean_squared_error(model.predict(X), y)\n",
    "display(mse)"
   ]
  },
  {
   "cell_type": "code",
   "execution_count": 299,
   "metadata": {},
   "outputs": [
    {
     "data": {
      "text/plain": [
       "Index(['price', 'year', 'odometer', 'manufacturer_acura',\n",
       "       'manufacturer_alfa-romeo', 'manufacturer_aston-martin',\n",
       "       'manufacturer_audi', 'manufacturer_bmw', 'manufacturer_buick',\n",
       "       'manufacturer_cadillac',\n",
       "       ...\n",
       "       'state_sd', 'state_tn', 'state_tx', 'state_ut', 'state_va', 'state_vt',\n",
       "       'state_wa', 'state_wi', 'state_wv', 'state_wy'],\n",
       "      dtype='object', length=162)"
      ]
     },
     "metadata": {},
     "output_type": "display_data"
    },
    {
     "name": "stdout",
     "output_type": "stream",
     "text": [
      "sales_df_v4.info():\n",
      "<class 'pandas.core.frame.DataFrame'>\n",
      "Index: 419429 entries, 27 to 426879\n",
      "Columns: 162 entries, price to state_wy\n",
      "dtypes: bool(159), float64(2), int64(1)\n",
      "memory usage: 76.4 MB\n"
     ]
    }
   ],
   "source": [
    "# drop more columns\n",
    "#sales_df_v3.drop('paint_color', axis = 1, inplace=True)\n",
    "#sales_df_v3.drop('state', axis = 1, inplace=True)\n",
    "\n",
    "#sales_df_v4 = pd.get_dummies(sales_df_v3, columns=['region','year', 'manufacturer', 'model', 'condition', 'cylinders', 'fuel', 'title_status', 'transmission', 'drive', 'size', 'type', 'paint_color', 'state'])\n",
    "sales_df_v4 = pd.get_dummies(sales_df_v3, columns=['manufacturer', 'condition', 'cylinders', 'fuel', 'title_status', 'transmission', 'drive', 'size', 'type', 'paint_color', 'state'])\n",
    "\n",
    "\n",
    "#display(X.head())\n",
    "#y = diamonds['price']\n",
    "display(sales_df_v4.columns)\n",
    "# dataframe has 162 columns after adding dummies\n",
    "print(\"sales_df_v4.info():\")\n",
    "sales_df_v4.info()\n",
    "# size in memory is 76.4 MB. If we add model column it will be 11.4 GB in size and gives out of memory error during model fit.\n"
   ]
  },
  {
   "cell_type": "code",
   "execution_count": 303,
   "metadata": {},
   "outputs": [
    {
     "data": {
      "text/html": [
       "<div>\n",
       "<style scoped>\n",
       "    .dataframe tbody tr th:only-of-type {\n",
       "        vertical-align: middle;\n",
       "    }\n",
       "\n",
       "    .dataframe tbody tr th {\n",
       "        vertical-align: top;\n",
       "    }\n",
       "\n",
       "    .dataframe thead th {\n",
       "        text-align: right;\n",
       "    }\n",
       "</style>\n",
       "<table border=\"1\" class=\"dataframe\">\n",
       "  <thead>\n",
       "    <tr style=\"text-align: right;\">\n",
       "      <th></th>\n",
       "      <th>price</th>\n",
       "      <th>year</th>\n",
       "      <th>odometer</th>\n",
       "      <th>manufacturer_acura</th>\n",
       "      <th>manufacturer_alfa-romeo</th>\n",
       "      <th>manufacturer_aston-martin</th>\n",
       "      <th>manufacturer_audi</th>\n",
       "      <th>manufacturer_bmw</th>\n",
       "      <th>manufacturer_buick</th>\n",
       "      <th>manufacturer_cadillac</th>\n",
       "      <th>...</th>\n",
       "      <th>state_sd</th>\n",
       "      <th>state_tn</th>\n",
       "      <th>state_tx</th>\n",
       "      <th>state_ut</th>\n",
       "      <th>state_va</th>\n",
       "      <th>state_vt</th>\n",
       "      <th>state_wa</th>\n",
       "      <th>state_wi</th>\n",
       "      <th>state_wv</th>\n",
       "      <th>state_wy</th>\n",
       "    </tr>\n",
       "  </thead>\n",
       "  <tbody>\n",
       "    <tr>\n",
       "      <th>27</th>\n",
       "      <td>33590</td>\n",
       "      <td>2014.0</td>\n",
       "      <td>57923.0</td>\n",
       "      <td>False</td>\n",
       "      <td>False</td>\n",
       "      <td>False</td>\n",
       "      <td>False</td>\n",
       "      <td>False</td>\n",
       "      <td>False</td>\n",
       "      <td>False</td>\n",
       "      <td>...</td>\n",
       "      <td>False</td>\n",
       "      <td>False</td>\n",
       "      <td>False</td>\n",
       "      <td>False</td>\n",
       "      <td>False</td>\n",
       "      <td>False</td>\n",
       "      <td>False</td>\n",
       "      <td>False</td>\n",
       "      <td>False</td>\n",
       "      <td>False</td>\n",
       "    </tr>\n",
       "    <tr>\n",
       "      <th>28</th>\n",
       "      <td>22590</td>\n",
       "      <td>2010.0</td>\n",
       "      <td>71229.0</td>\n",
       "      <td>False</td>\n",
       "      <td>False</td>\n",
       "      <td>False</td>\n",
       "      <td>False</td>\n",
       "      <td>False</td>\n",
       "      <td>False</td>\n",
       "      <td>False</td>\n",
       "      <td>...</td>\n",
       "      <td>False</td>\n",
       "      <td>False</td>\n",
       "      <td>False</td>\n",
       "      <td>False</td>\n",
       "      <td>False</td>\n",
       "      <td>False</td>\n",
       "      <td>False</td>\n",
       "      <td>False</td>\n",
       "      <td>False</td>\n",
       "      <td>False</td>\n",
       "    </tr>\n",
       "    <tr>\n",
       "      <th>29</th>\n",
       "      <td>39590</td>\n",
       "      <td>2020.0</td>\n",
       "      <td>19160.0</td>\n",
       "      <td>False</td>\n",
       "      <td>False</td>\n",
       "      <td>False</td>\n",
       "      <td>False</td>\n",
       "      <td>False</td>\n",
       "      <td>False</td>\n",
       "      <td>False</td>\n",
       "      <td>...</td>\n",
       "      <td>False</td>\n",
       "      <td>False</td>\n",
       "      <td>False</td>\n",
       "      <td>False</td>\n",
       "      <td>False</td>\n",
       "      <td>False</td>\n",
       "      <td>False</td>\n",
       "      <td>False</td>\n",
       "      <td>False</td>\n",
       "      <td>False</td>\n",
       "    </tr>\n",
       "    <tr>\n",
       "      <th>30</th>\n",
       "      <td>30990</td>\n",
       "      <td>2017.0</td>\n",
       "      <td>41124.0</td>\n",
       "      <td>False</td>\n",
       "      <td>False</td>\n",
       "      <td>False</td>\n",
       "      <td>False</td>\n",
       "      <td>False</td>\n",
       "      <td>False</td>\n",
       "      <td>False</td>\n",
       "      <td>...</td>\n",
       "      <td>False</td>\n",
       "      <td>False</td>\n",
       "      <td>False</td>\n",
       "      <td>False</td>\n",
       "      <td>False</td>\n",
       "      <td>False</td>\n",
       "      <td>False</td>\n",
       "      <td>False</td>\n",
       "      <td>False</td>\n",
       "      <td>False</td>\n",
       "    </tr>\n",
       "    <tr>\n",
       "      <th>31</th>\n",
       "      <td>15000</td>\n",
       "      <td>2013.0</td>\n",
       "      <td>128000.0</td>\n",
       "      <td>False</td>\n",
       "      <td>False</td>\n",
       "      <td>False</td>\n",
       "      <td>False</td>\n",
       "      <td>False</td>\n",
       "      <td>False</td>\n",
       "      <td>False</td>\n",
       "      <td>...</td>\n",
       "      <td>False</td>\n",
       "      <td>False</td>\n",
       "      <td>False</td>\n",
       "      <td>False</td>\n",
       "      <td>False</td>\n",
       "      <td>False</td>\n",
       "      <td>False</td>\n",
       "      <td>False</td>\n",
       "      <td>False</td>\n",
       "      <td>False</td>\n",
       "    </tr>\n",
       "  </tbody>\n",
       "</table>\n",
       "<p>5 rows × 162 columns</p>\n",
       "</div>"
      ],
      "text/plain": [
       "    price    year  odometer  manufacturer_acura  manufacturer_alfa-romeo  \\\n",
       "27  33590  2014.0   57923.0               False                    False   \n",
       "28  22590  2010.0   71229.0               False                    False   \n",
       "29  39590  2020.0   19160.0               False                    False   \n",
       "30  30990  2017.0   41124.0               False                    False   \n",
       "31  15000  2013.0  128000.0               False                    False   \n",
       "\n",
       "    manufacturer_aston-martin  manufacturer_audi  manufacturer_bmw  \\\n",
       "27                      False              False             False   \n",
       "28                      False              False             False   \n",
       "29                      False              False             False   \n",
       "30                      False              False             False   \n",
       "31                      False              False             False   \n",
       "\n",
       "    manufacturer_buick  manufacturer_cadillac  ...  state_sd  state_tn  \\\n",
       "27               False                  False  ...     False     False   \n",
       "28               False                  False  ...     False     False   \n",
       "29               False                  False  ...     False     False   \n",
       "30               False                  False  ...     False     False   \n",
       "31               False                  False  ...     False     False   \n",
       "\n",
       "    state_tx  state_ut  state_va  state_vt  state_wa  state_wi  state_wv  \\\n",
       "27     False     False     False     False     False     False     False   \n",
       "28     False     False     False     False     False     False     False   \n",
       "29     False     False     False     False     False     False     False   \n",
       "30     False     False     False     False     False     False     False   \n",
       "31     False     False     False     False     False     False     False   \n",
       "\n",
       "    state_wy  \n",
       "27     False  \n",
       "28     False  \n",
       "29     False  \n",
       "30     False  \n",
       "31     False  \n",
       "\n",
       "[5 rows x 162 columns]"
      ]
     },
     "execution_count": 303,
     "metadata": {},
     "output_type": "execute_result"
    }
   ],
   "source": [
    "sales_df_v4.head()\n"
   ]
  },
  {
   "cell_type": "code",
   "execution_count": 305,
   "metadata": {},
   "outputs": [
    {
     "data": {
      "text/html": [
       "<div>\n",
       "<style scoped>\n",
       "    .dataframe tbody tr th:only-of-type {\n",
       "        vertical-align: middle;\n",
       "    }\n",
       "\n",
       "    .dataframe tbody tr th {\n",
       "        vertical-align: top;\n",
       "    }\n",
       "\n",
       "    .dataframe thead th {\n",
       "        text-align: right;\n",
       "    }\n",
       "</style>\n",
       "<table border=\"1\" class=\"dataframe\">\n",
       "  <thead>\n",
       "    <tr style=\"text-align: right;\">\n",
       "      <th></th>\n",
       "      <th>price</th>\n",
       "      <th>year</th>\n",
       "      <th>odometer</th>\n",
       "      <th>manufacturer_acura</th>\n",
       "      <th>manufacturer_alfa-romeo</th>\n",
       "      <th>manufacturer_aston-martin</th>\n",
       "      <th>manufacturer_audi</th>\n",
       "      <th>manufacturer_bmw</th>\n",
       "      <th>manufacturer_buick</th>\n",
       "      <th>manufacturer_cadillac</th>\n",
       "      <th>...</th>\n",
       "      <th>state_sd</th>\n",
       "      <th>state_tn</th>\n",
       "      <th>state_tx</th>\n",
       "      <th>state_ut</th>\n",
       "      <th>state_va</th>\n",
       "      <th>state_vt</th>\n",
       "      <th>state_wa</th>\n",
       "      <th>state_wi</th>\n",
       "      <th>state_wv</th>\n",
       "      <th>state_wy</th>\n",
       "    </tr>\n",
       "  </thead>\n",
       "  <tbody>\n",
       "    <tr>\n",
       "      <th>27</th>\n",
       "      <td>33590</td>\n",
       "      <td>0.291019</td>\n",
       "      <td>-0.529455</td>\n",
       "      <td>False</td>\n",
       "      <td>False</td>\n",
       "      <td>False</td>\n",
       "      <td>False</td>\n",
       "      <td>False</td>\n",
       "      <td>False</td>\n",
       "      <td>False</td>\n",
       "      <td>...</td>\n",
       "      <td>False</td>\n",
       "      <td>False</td>\n",
       "      <td>False</td>\n",
       "      <td>False</td>\n",
       "      <td>False</td>\n",
       "      <td>False</td>\n",
       "      <td>False</td>\n",
       "      <td>False</td>\n",
       "      <td>False</td>\n",
       "      <td>False</td>\n",
       "    </tr>\n",
       "    <tr>\n",
       "      <th>28</th>\n",
       "      <td>22590</td>\n",
       "      <td>-0.136505</td>\n",
       "      <td>-0.317578</td>\n",
       "      <td>False</td>\n",
       "      <td>False</td>\n",
       "      <td>False</td>\n",
       "      <td>False</td>\n",
       "      <td>False</td>\n",
       "      <td>False</td>\n",
       "      <td>False</td>\n",
       "      <td>...</td>\n",
       "      <td>False</td>\n",
       "      <td>False</td>\n",
       "      <td>False</td>\n",
       "      <td>False</td>\n",
       "      <td>False</td>\n",
       "      <td>False</td>\n",
       "      <td>False</td>\n",
       "      <td>False</td>\n",
       "      <td>False</td>\n",
       "      <td>False</td>\n",
       "    </tr>\n",
       "    <tr>\n",
       "      <th>29</th>\n",
       "      <td>39590</td>\n",
       "      <td>0.932306</td>\n",
       "      <td>-1.146695</td>\n",
       "      <td>False</td>\n",
       "      <td>False</td>\n",
       "      <td>False</td>\n",
       "      <td>False</td>\n",
       "      <td>False</td>\n",
       "      <td>False</td>\n",
       "      <td>False</td>\n",
       "      <td>...</td>\n",
       "      <td>False</td>\n",
       "      <td>False</td>\n",
       "      <td>False</td>\n",
       "      <td>False</td>\n",
       "      <td>False</td>\n",
       "      <td>False</td>\n",
       "      <td>False</td>\n",
       "      <td>False</td>\n",
       "      <td>False</td>\n",
       "      <td>False</td>\n",
       "    </tr>\n",
       "    <tr>\n",
       "      <th>30</th>\n",
       "      <td>30990</td>\n",
       "      <td>0.611663</td>\n",
       "      <td>-0.796953</td>\n",
       "      <td>False</td>\n",
       "      <td>False</td>\n",
       "      <td>False</td>\n",
       "      <td>False</td>\n",
       "      <td>False</td>\n",
       "      <td>False</td>\n",
       "      <td>False</td>\n",
       "      <td>...</td>\n",
       "      <td>False</td>\n",
       "      <td>False</td>\n",
       "      <td>False</td>\n",
       "      <td>False</td>\n",
       "      <td>False</td>\n",
       "      <td>False</td>\n",
       "      <td>False</td>\n",
       "      <td>False</td>\n",
       "      <td>False</td>\n",
       "      <td>False</td>\n",
       "    </tr>\n",
       "    <tr>\n",
       "      <th>31</th>\n",
       "      <td>15000</td>\n",
       "      <td>0.184138</td>\n",
       "      <td>0.586412</td>\n",
       "      <td>False</td>\n",
       "      <td>False</td>\n",
       "      <td>False</td>\n",
       "      <td>False</td>\n",
       "      <td>False</td>\n",
       "      <td>False</td>\n",
       "      <td>False</td>\n",
       "      <td>...</td>\n",
       "      <td>False</td>\n",
       "      <td>False</td>\n",
       "      <td>False</td>\n",
       "      <td>False</td>\n",
       "      <td>False</td>\n",
       "      <td>False</td>\n",
       "      <td>False</td>\n",
       "      <td>False</td>\n",
       "      <td>False</td>\n",
       "      <td>False</td>\n",
       "    </tr>\n",
       "    <tr>\n",
       "      <th>32</th>\n",
       "      <td>27990</td>\n",
       "      <td>0.077257</td>\n",
       "      <td>-0.357912</td>\n",
       "      <td>False</td>\n",
       "      <td>False</td>\n",
       "      <td>False</td>\n",
       "      <td>False</td>\n",
       "      <td>False</td>\n",
       "      <td>False</td>\n",
       "      <td>False</td>\n",
       "      <td>...</td>\n",
       "      <td>False</td>\n",
       "      <td>False</td>\n",
       "      <td>False</td>\n",
       "      <td>False</td>\n",
       "      <td>False</td>\n",
       "      <td>False</td>\n",
       "      <td>False</td>\n",
       "      <td>False</td>\n",
       "      <td>False</td>\n",
       "      <td>False</td>\n",
       "    </tr>\n",
       "    <tr>\n",
       "      <th>33</th>\n",
       "      <td>34590</td>\n",
       "      <td>0.504781</td>\n",
       "      <td>-0.982063</td>\n",
       "      <td>False</td>\n",
       "      <td>False</td>\n",
       "      <td>False</td>\n",
       "      <td>False</td>\n",
       "      <td>False</td>\n",
       "      <td>False</td>\n",
       "      <td>False</td>\n",
       "      <td>...</td>\n",
       "      <td>False</td>\n",
       "      <td>False</td>\n",
       "      <td>False</td>\n",
       "      <td>False</td>\n",
       "      <td>False</td>\n",
       "      <td>False</td>\n",
       "      <td>False</td>\n",
       "      <td>False</td>\n",
       "      <td>False</td>\n",
       "      <td>False</td>\n",
       "    </tr>\n",
       "    <tr>\n",
       "      <th>34</th>\n",
       "      <td>35000</td>\n",
       "      <td>0.825425</td>\n",
       "      <td>-0.767080</td>\n",
       "      <td>False</td>\n",
       "      <td>False</td>\n",
       "      <td>False</td>\n",
       "      <td>False</td>\n",
       "      <td>False</td>\n",
       "      <td>False</td>\n",
       "      <td>False</td>\n",
       "      <td>...</td>\n",
       "      <td>False</td>\n",
       "      <td>False</td>\n",
       "      <td>False</td>\n",
       "      <td>False</td>\n",
       "      <td>False</td>\n",
       "      <td>False</td>\n",
       "      <td>False</td>\n",
       "      <td>False</td>\n",
       "      <td>False</td>\n",
       "      <td>False</td>\n",
       "    </tr>\n",
       "    <tr>\n",
       "      <th>35</th>\n",
       "      <td>29990</td>\n",
       "      <td>0.504781</td>\n",
       "      <td>-1.176281</td>\n",
       "      <td>False</td>\n",
       "      <td>False</td>\n",
       "      <td>False</td>\n",
       "      <td>False</td>\n",
       "      <td>False</td>\n",
       "      <td>False</td>\n",
       "      <td>False</td>\n",
       "      <td>...</td>\n",
       "      <td>False</td>\n",
       "      <td>False</td>\n",
       "      <td>False</td>\n",
       "      <td>False</td>\n",
       "      <td>False</td>\n",
       "      <td>False</td>\n",
       "      <td>False</td>\n",
       "      <td>False</td>\n",
       "      <td>False</td>\n",
       "      <td>False</td>\n",
       "    </tr>\n",
       "    <tr>\n",
       "      <th>36</th>\n",
       "      <td>38590</td>\n",
       "      <td>-0.029624</td>\n",
       "      <td>-0.970311</td>\n",
       "      <td>False</td>\n",
       "      <td>False</td>\n",
       "      <td>False</td>\n",
       "      <td>False</td>\n",
       "      <td>False</td>\n",
       "      <td>False</td>\n",
       "      <td>False</td>\n",
       "      <td>...</td>\n",
       "      <td>False</td>\n",
       "      <td>False</td>\n",
       "      <td>False</td>\n",
       "      <td>False</td>\n",
       "      <td>False</td>\n",
       "      <td>False</td>\n",
       "      <td>False</td>\n",
       "      <td>False</td>\n",
       "      <td>False</td>\n",
       "      <td>False</td>\n",
       "    </tr>\n",
       "  </tbody>\n",
       "</table>\n",
       "<p>10 rows × 162 columns</p>\n",
       "</div>"
      ],
      "text/plain": [
       "    price      year  odometer  manufacturer_acura  manufacturer_alfa-romeo  \\\n",
       "27  33590  0.291019 -0.529455               False                    False   \n",
       "28  22590 -0.136505 -0.317578               False                    False   \n",
       "29  39590  0.932306 -1.146695               False                    False   \n",
       "30  30990  0.611663 -0.796953               False                    False   \n",
       "31  15000  0.184138  0.586412               False                    False   \n",
       "32  27990  0.077257 -0.357912               False                    False   \n",
       "33  34590  0.504781 -0.982063               False                    False   \n",
       "34  35000  0.825425 -0.767080               False                    False   \n",
       "35  29990  0.504781 -1.176281               False                    False   \n",
       "36  38590 -0.029624 -0.970311               False                    False   \n",
       "\n",
       "    manufacturer_aston-martin  manufacturer_audi  manufacturer_bmw  \\\n",
       "27                      False              False             False   \n",
       "28                      False              False             False   \n",
       "29                      False              False             False   \n",
       "30                      False              False             False   \n",
       "31                      False              False             False   \n",
       "32                      False              False             False   \n",
       "33                      False              False             False   \n",
       "34                      False              False             False   \n",
       "35                      False              False             False   \n",
       "36                      False              False             False   \n",
       "\n",
       "    manufacturer_buick  manufacturer_cadillac  ...  state_sd  state_tn  \\\n",
       "27               False                  False  ...     False     False   \n",
       "28               False                  False  ...     False     False   \n",
       "29               False                  False  ...     False     False   \n",
       "30               False                  False  ...     False     False   \n",
       "31               False                  False  ...     False     False   \n",
       "32               False                  False  ...     False     False   \n",
       "33               False                  False  ...     False     False   \n",
       "34               False                  False  ...     False     False   \n",
       "35               False                  False  ...     False     False   \n",
       "36               False                  False  ...     False     False   \n",
       "\n",
       "    state_tx  state_ut  state_va  state_vt  state_wa  state_wi  state_wv  \\\n",
       "27     False     False     False     False     False     False     False   \n",
       "28     False     False     False     False     False     False     False   \n",
       "29     False     False     False     False     False     False     False   \n",
       "30     False     False     False     False     False     False     False   \n",
       "31     False     False     False     False     False     False     False   \n",
       "32     False     False     False     False     False     False     False   \n",
       "33     False     False     False     False     False     False     False   \n",
       "34     False     False     False     False     False     False     False   \n",
       "35     False     False     False     False     False     False     False   \n",
       "36     False     False     False     False     False     False     False   \n",
       "\n",
       "    state_wy  \n",
       "27     False  \n",
       "28     False  \n",
       "29     False  \n",
       "30     False  \n",
       "31     False  \n",
       "32     False  \n",
       "33     False  \n",
       "34     False  \n",
       "35     False  \n",
       "36     False  \n",
       "\n",
       "[10 rows x 162 columns]"
      ]
     },
     "execution_count": 305,
     "metadata": {},
     "output_type": "execute_result"
    }
   ],
   "source": [
    "# Need to standardize year and odometer columns\n",
    "# Initialize the StandardScaler\n",
    "scaler = StandardScaler()\n",
    "sales_df_v4[['year', 'odometer']] = scaler.fit_transform(sales_df_v4[['year', 'odometer']])\n",
    "sales_df_v4.head(10)"
   ]
  },
  {
   "cell_type": "code",
   "execution_count": 313,
   "metadata": {},
   "outputs": [
    {
     "data": {
      "text/plain": [
       "129657663.00859767"
      ]
     },
     "metadata": {},
     "output_type": "display_data"
    },
    {
     "name": "stdout",
     "output_type": "stream",
     "text": [
      "linereg_mse = 129657663.0086\n",
      "CPU times: total: 9.41 s\n",
      "Wall time: 3.88 s\n"
     ]
    }
   ],
   "source": [
    "%%time\n",
    "# Since only two columns (year and odometer) are numeric columns we do not want to run PCA algorithm.\n",
    "X = sales_df_v4.drop('price', axis = 1)\n",
    "y = sales_df_v4['price']\n",
    "#X_train, X_test, y_train, y_test = train_test_split(X, y, test_size=0.3, random_state=22)\n",
    "X_train, X_test, y_train, y_test = train_test_split(X, y, test_size=0.3, random_state=22)\n",
    "\n",
    "linreg = LinearRegression(fit_intercept=False).fit(X_train, y_train)\n",
    "linreg_mse = mean_squared_error(linreg.predict(X_test), y_test)\n",
    "display(linreg_mse)\n",
    "print(f\"linereg_mse = {linreg_mse:.4f}\")\n"
   ]
  },
  {
   "cell_type": "code",
   "execution_count": 315,
   "metadata": {},
   "outputs": [
    {
     "data": {
      "text/plain": [
       "131724567.91779812"
      ]
     },
     "metadata": {},
     "output_type": "display_data"
    }
   ],
   "source": [
    "linreg_mse = mean_squared_error(linreg.predict(X_test[:10000]), y_test[:10000])\n",
    "display(linreg_mse)\n",
    "#display(linreg.coef_)\n",
    "#display(linreg.coef_.size)\n"
   ]
  },
  {
   "cell_type": "code",
   "execution_count": null,
   "metadata": {},
   "outputs": [],
   "source": [
    "# Sequential Feature Selection\n",
    "\n"
   ]
  },
  {
   "cell_type": "code",
   "execution_count": 335,
   "metadata": {},
   "outputs": [
    {
     "name": "stdout",
     "output_type": "stream",
     "text": [
      "CPU times: total: 13 s\n",
      "Wall time: 6.97 s\n"
     ]
    }
   ],
   "source": [
    "%%time\n",
    "# Ridge Regression uses GridSearchCV search\n",
    "alphas = [0.001, 1.0, 10.0, 100.0, 1000.0]\n",
    "coef_list = []\n",
    "for alpha in alphas:\n",
    "    ridge = Ridge(alpha = alpha)\t\t# LinearRegression when alpha=0\n",
    "    ridge.fit(X_train, y_train)\n",
    "    coef_list.append(list(ridge.coef_))\n",
    "    #display(coef_list)\n",
    "    #coef_list = []"
   ]
  },
  {
   "cell_type": "code",
   "execution_count": 351,
   "metadata": {},
   "outputs": [],
   "source": [
    "from sklearn.linear_model import Lasso\n",
    "\n",
    "lasso_model = Lasso()\n"
   ]
  },
  {
   "cell_type": "code",
   "execution_count": 353,
   "metadata": {},
   "outputs": [],
   "source": [
    "def get_training_and_dev_MSE_for_model_with_alpha(alpha, training, y_train, dev, y_dev):\n",
    "    ridge_model = Ridge(alpha = alpha)\n",
    "    ridge_model.fit(training, y_train)\n",
    "    training_error = mean_squared_error(ridge_model.predict(training), y_train)\n",
    "    validation_error = mean_squared_error(ridge_model.predict(dev), y_dev)\n",
    "    return alpha, training_error, validation_error"
   ]
  },
  {
   "cell_type": "code",
   "execution_count": 355,
   "metadata": {},
   "outputs": [
    {
     "name": "stdout",
     "output_type": "stream",
     "text": [
      "CPU times: total: 4.5 s\n",
      "Wall time: 2.55 s\n"
     ]
    },
    {
     "data": {
      "text/plain": [
       "(10, 129643765.35765061, 129595193.46367887)"
      ]
     },
     "execution_count": 355,
     "metadata": {},
     "output_type": "execute_result"
    }
   ],
   "source": [
    "%%time\n",
    "get_training_and_dev_MSE_for_model_with_alpha(10, X_train, y_train, X_test, y_test)"
   ]
  },
  {
   "cell_type": "code",
   "execution_count": 369,
   "metadata": {},
   "outputs": [
    {
     "name": "stdout",
     "output_type": "stream",
     "text": [
      "[1.e-05 1.e-04 1.e-03 1.e-02 1.e-01 1.e+00 1.e+01 1.e+02 1.e+03 1.e+04]\n"
     ]
    }
   ],
   "source": [
    "data = 10**np.linspace(-5, 4, 10)\n",
    "print(data)"
   ]
  },
  {
   "cell_type": "code",
   "execution_count": 361,
   "metadata": {},
   "outputs": [
    {
     "name": "stdout",
     "output_type": "stream",
     "text": [
      "CPU times: total: 48.7 s\n",
      "Wall time: 23.3 s\n"
     ]
    }
   ],
   "source": [
    "%%time\n",
    "results = [get_training_and_dev_MSE_for_model_with_alpha(alpha,  X_train, y_train, X_test, y_test) \\\n",
    "             for alpha in 10**np.linspace(-5, 4, 10)]\n",
    "results = pd.DataFrame(results, columns = [\"alpha\", \"Training MSE\", \"Dev MSE\"])"
   ]
  },
  {
   "cell_type": "code",
   "execution_count": 381,
   "metadata": {},
   "outputs": [
    {
     "data": {
      "application/vnd.plotly.v1+json": {
       "config": {
        "plotlyServerURL": "https://plot.ly"
       },
       "data": [
        {
         "hovertemplate": "variable=Training MSE<br>1/alpha=%{x}<br>value=%{y}<extra></extra>",
         "legendgroup": "Training MSE",
         "line": {
          "color": "#636efa",
          "dash": "solid"
         },
         "marker": {
          "symbol": "circle"
         },
         "mode": "lines",
         "name": "Training MSE",
         "orientation": "v",
         "showlegend": true,
         "type": "scatter",
         "x": [
          99999.99999999999,
          10000,
          1000,
          100,
          10,
          1,
          0.1,
          0.01,
          0.001,
          0.0001
         ],
         "xaxis": "x",
         "y": [
          129624758.51718338,
          129624758.51718633,
          129624758.51748465,
          129624758.5472944,
          129624761.50864662,
          129625040.8629772,
          129643765.35765061,
          129967177.34789576,
          131100329.10283844,
          135002386.49318096
         ],
         "yaxis": "y"
        },
        {
         "hovertemplate": "variable=Dev MSE<br>1/alpha=%{x}<br>value=%{y}<extra></extra>",
         "legendgroup": "Dev MSE",
         "line": {
          "color": "#EF553B",
          "dash": "solid"
         },
         "marker": {
          "symbol": "circle"
         },
         "mode": "lines",
         "name": "Dev MSE",
         "orientation": "v",
         "showlegend": true,
         "type": "scatter",
         "x": [
          99999.99999999999,
          10000,
          1000,
          100,
          10,
          1,
          0.1,
          0.01,
          0.001,
          0.0001
         ],
         "xaxis": "x",
         "y": [
          129657721.0728396,
          129657720.12244107,
          129657710.61914116,
          129657615.65456335,
          129656672.74202536,
          129647837.97159971,
          129595193.46367887,
          129708711.14433233,
          130717510.0950669,
          134502550.2270305
         ],
         "yaxis": "y"
        }
       ],
       "layout": {
        "autosize": true,
        "legend": {
         "title": {
          "text": "variable"
         },
         "tracegroupgap": 0
        },
        "margin": {
         "t": 60
        },
        "template": {
         "data": {
          "bar": [
           {
            "error_x": {
             "color": "#2a3f5f"
            },
            "error_y": {
             "color": "#2a3f5f"
            },
            "marker": {
             "line": {
              "color": "#E5ECF6",
              "width": 0.5
             },
             "pattern": {
              "fillmode": "overlay",
              "size": 10,
              "solidity": 0.2
             }
            },
            "type": "bar"
           }
          ],
          "barpolar": [
           {
            "marker": {
             "line": {
              "color": "#E5ECF6",
              "width": 0.5
             },
             "pattern": {
              "fillmode": "overlay",
              "size": 10,
              "solidity": 0.2
             }
            },
            "type": "barpolar"
           }
          ],
          "carpet": [
           {
            "aaxis": {
             "endlinecolor": "#2a3f5f",
             "gridcolor": "white",
             "linecolor": "white",
             "minorgridcolor": "white",
             "startlinecolor": "#2a3f5f"
            },
            "baxis": {
             "endlinecolor": "#2a3f5f",
             "gridcolor": "white",
             "linecolor": "white",
             "minorgridcolor": "white",
             "startlinecolor": "#2a3f5f"
            },
            "type": "carpet"
           }
          ],
          "choropleth": [
           {
            "colorbar": {
             "outlinewidth": 0,
             "ticks": ""
            },
            "type": "choropleth"
           }
          ],
          "contour": [
           {
            "colorbar": {
             "outlinewidth": 0,
             "ticks": ""
            },
            "colorscale": [
             [
              0,
              "#0d0887"
             ],
             [
              0.1111111111111111,
              "#46039f"
             ],
             [
              0.2222222222222222,
              "#7201a8"
             ],
             [
              0.3333333333333333,
              "#9c179e"
             ],
             [
              0.4444444444444444,
              "#bd3786"
             ],
             [
              0.5555555555555556,
              "#d8576b"
             ],
             [
              0.6666666666666666,
              "#ed7953"
             ],
             [
              0.7777777777777778,
              "#fb9f3a"
             ],
             [
              0.8888888888888888,
              "#fdca26"
             ],
             [
              1,
              "#f0f921"
             ]
            ],
            "type": "contour"
           }
          ],
          "contourcarpet": [
           {
            "colorbar": {
             "outlinewidth": 0,
             "ticks": ""
            },
            "type": "contourcarpet"
           }
          ],
          "heatmap": [
           {
            "colorbar": {
             "outlinewidth": 0,
             "ticks": ""
            },
            "colorscale": [
             [
              0,
              "#0d0887"
             ],
             [
              0.1111111111111111,
              "#46039f"
             ],
             [
              0.2222222222222222,
              "#7201a8"
             ],
             [
              0.3333333333333333,
              "#9c179e"
             ],
             [
              0.4444444444444444,
              "#bd3786"
             ],
             [
              0.5555555555555556,
              "#d8576b"
             ],
             [
              0.6666666666666666,
              "#ed7953"
             ],
             [
              0.7777777777777778,
              "#fb9f3a"
             ],
             [
              0.8888888888888888,
              "#fdca26"
             ],
             [
              1,
              "#f0f921"
             ]
            ],
            "type": "heatmap"
           }
          ],
          "heatmapgl": [
           {
            "colorbar": {
             "outlinewidth": 0,
             "ticks": ""
            },
            "colorscale": [
             [
              0,
              "#0d0887"
             ],
             [
              0.1111111111111111,
              "#46039f"
             ],
             [
              0.2222222222222222,
              "#7201a8"
             ],
             [
              0.3333333333333333,
              "#9c179e"
             ],
             [
              0.4444444444444444,
              "#bd3786"
             ],
             [
              0.5555555555555556,
              "#d8576b"
             ],
             [
              0.6666666666666666,
              "#ed7953"
             ],
             [
              0.7777777777777778,
              "#fb9f3a"
             ],
             [
              0.8888888888888888,
              "#fdca26"
             ],
             [
              1,
              "#f0f921"
             ]
            ],
            "type": "heatmapgl"
           }
          ],
          "histogram": [
           {
            "marker": {
             "pattern": {
              "fillmode": "overlay",
              "size": 10,
              "solidity": 0.2
             }
            },
            "type": "histogram"
           }
          ],
          "histogram2d": [
           {
            "colorbar": {
             "outlinewidth": 0,
             "ticks": ""
            },
            "colorscale": [
             [
              0,
              "#0d0887"
             ],
             [
              0.1111111111111111,
              "#46039f"
             ],
             [
              0.2222222222222222,
              "#7201a8"
             ],
             [
              0.3333333333333333,
              "#9c179e"
             ],
             [
              0.4444444444444444,
              "#bd3786"
             ],
             [
              0.5555555555555556,
              "#d8576b"
             ],
             [
              0.6666666666666666,
              "#ed7953"
             ],
             [
              0.7777777777777778,
              "#fb9f3a"
             ],
             [
              0.8888888888888888,
              "#fdca26"
             ],
             [
              1,
              "#f0f921"
             ]
            ],
            "type": "histogram2d"
           }
          ],
          "histogram2dcontour": [
           {
            "colorbar": {
             "outlinewidth": 0,
             "ticks": ""
            },
            "colorscale": [
             [
              0,
              "#0d0887"
             ],
             [
              0.1111111111111111,
              "#46039f"
             ],
             [
              0.2222222222222222,
              "#7201a8"
             ],
             [
              0.3333333333333333,
              "#9c179e"
             ],
             [
              0.4444444444444444,
              "#bd3786"
             ],
             [
              0.5555555555555556,
              "#d8576b"
             ],
             [
              0.6666666666666666,
              "#ed7953"
             ],
             [
              0.7777777777777778,
              "#fb9f3a"
             ],
             [
              0.8888888888888888,
              "#fdca26"
             ],
             [
              1,
              "#f0f921"
             ]
            ],
            "type": "histogram2dcontour"
           }
          ],
          "mesh3d": [
           {
            "colorbar": {
             "outlinewidth": 0,
             "ticks": ""
            },
            "type": "mesh3d"
           }
          ],
          "parcoords": [
           {
            "line": {
             "colorbar": {
              "outlinewidth": 0,
              "ticks": ""
             }
            },
            "type": "parcoords"
           }
          ],
          "pie": [
           {
            "automargin": true,
            "type": "pie"
           }
          ],
          "scatter": [
           {
            "fillpattern": {
             "fillmode": "overlay",
             "size": 10,
             "solidity": 0.2
            },
            "type": "scatter"
           }
          ],
          "scatter3d": [
           {
            "line": {
             "colorbar": {
              "outlinewidth": 0,
              "ticks": ""
             }
            },
            "marker": {
             "colorbar": {
              "outlinewidth": 0,
              "ticks": ""
             }
            },
            "type": "scatter3d"
           }
          ],
          "scattercarpet": [
           {
            "marker": {
             "colorbar": {
              "outlinewidth": 0,
              "ticks": ""
             }
            },
            "type": "scattercarpet"
           }
          ],
          "scattergeo": [
           {
            "marker": {
             "colorbar": {
              "outlinewidth": 0,
              "ticks": ""
             }
            },
            "type": "scattergeo"
           }
          ],
          "scattergl": [
           {
            "marker": {
             "colorbar": {
              "outlinewidth": 0,
              "ticks": ""
             }
            },
            "type": "scattergl"
           }
          ],
          "scattermapbox": [
           {
            "marker": {
             "colorbar": {
              "outlinewidth": 0,
              "ticks": ""
             }
            },
            "type": "scattermapbox"
           }
          ],
          "scatterpolar": [
           {
            "marker": {
             "colorbar": {
              "outlinewidth": 0,
              "ticks": ""
             }
            },
            "type": "scatterpolar"
           }
          ],
          "scatterpolargl": [
           {
            "marker": {
             "colorbar": {
              "outlinewidth": 0,
              "ticks": ""
             }
            },
            "type": "scatterpolargl"
           }
          ],
          "scatterternary": [
           {
            "marker": {
             "colorbar": {
              "outlinewidth": 0,
              "ticks": ""
             }
            },
            "type": "scatterternary"
           }
          ],
          "surface": [
           {
            "colorbar": {
             "outlinewidth": 0,
             "ticks": ""
            },
            "colorscale": [
             [
              0,
              "#0d0887"
             ],
             [
              0.1111111111111111,
              "#46039f"
             ],
             [
              0.2222222222222222,
              "#7201a8"
             ],
             [
              0.3333333333333333,
              "#9c179e"
             ],
             [
              0.4444444444444444,
              "#bd3786"
             ],
             [
              0.5555555555555556,
              "#d8576b"
             ],
             [
              0.6666666666666666,
              "#ed7953"
             ],
             [
              0.7777777777777778,
              "#fb9f3a"
             ],
             [
              0.8888888888888888,
              "#fdca26"
             ],
             [
              1,
              "#f0f921"
             ]
            ],
            "type": "surface"
           }
          ],
          "table": [
           {
            "cells": {
             "fill": {
              "color": "#EBF0F8"
             },
             "line": {
              "color": "white"
             }
            },
            "header": {
             "fill": {
              "color": "#C8D4E3"
             },
             "line": {
              "color": "white"
             }
            },
            "type": "table"
           }
          ]
         },
         "layout": {
          "annotationdefaults": {
           "arrowcolor": "#2a3f5f",
           "arrowhead": 0,
           "arrowwidth": 1
          },
          "autotypenumbers": "strict",
          "coloraxis": {
           "colorbar": {
            "outlinewidth": 0,
            "ticks": ""
           }
          },
          "colorscale": {
           "diverging": [
            [
             0,
             "#8e0152"
            ],
            [
             0.1,
             "#c51b7d"
            ],
            [
             0.2,
             "#de77ae"
            ],
            [
             0.3,
             "#f1b6da"
            ],
            [
             0.4,
             "#fde0ef"
            ],
            [
             0.5,
             "#f7f7f7"
            ],
            [
             0.6,
             "#e6f5d0"
            ],
            [
             0.7,
             "#b8e186"
            ],
            [
             0.8,
             "#7fbc41"
            ],
            [
             0.9,
             "#4d9221"
            ],
            [
             1,
             "#276419"
            ]
           ],
           "sequential": [
            [
             0,
             "#0d0887"
            ],
            [
             0.1111111111111111,
             "#46039f"
            ],
            [
             0.2222222222222222,
             "#7201a8"
            ],
            [
             0.3333333333333333,
             "#9c179e"
            ],
            [
             0.4444444444444444,
             "#bd3786"
            ],
            [
             0.5555555555555556,
             "#d8576b"
            ],
            [
             0.6666666666666666,
             "#ed7953"
            ],
            [
             0.7777777777777778,
             "#fb9f3a"
            ],
            [
             0.8888888888888888,
             "#fdca26"
            ],
            [
             1,
             "#f0f921"
            ]
           ],
           "sequentialminus": [
            [
             0,
             "#0d0887"
            ],
            [
             0.1111111111111111,
             "#46039f"
            ],
            [
             0.2222222222222222,
             "#7201a8"
            ],
            [
             0.3333333333333333,
             "#9c179e"
            ],
            [
             0.4444444444444444,
             "#bd3786"
            ],
            [
             0.5555555555555556,
             "#d8576b"
            ],
            [
             0.6666666666666666,
             "#ed7953"
            ],
            [
             0.7777777777777778,
             "#fb9f3a"
            ],
            [
             0.8888888888888888,
             "#fdca26"
            ],
            [
             1,
             "#f0f921"
            ]
           ]
          },
          "colorway": [
           "#636efa",
           "#EF553B",
           "#00cc96",
           "#ab63fa",
           "#FFA15A",
           "#19d3f3",
           "#FF6692",
           "#B6E880",
           "#FF97FF",
           "#FECB52"
          ],
          "font": {
           "color": "#2a3f5f"
          },
          "geo": {
           "bgcolor": "white",
           "lakecolor": "white",
           "landcolor": "#E5ECF6",
           "showlakes": true,
           "showland": true,
           "subunitcolor": "white"
          },
          "hoverlabel": {
           "align": "left"
          },
          "hovermode": "closest",
          "mapbox": {
           "style": "light"
          },
          "paper_bgcolor": "white",
          "plot_bgcolor": "#E5ECF6",
          "polar": {
           "angularaxis": {
            "gridcolor": "white",
            "linecolor": "white",
            "ticks": ""
           },
           "bgcolor": "#E5ECF6",
           "radialaxis": {
            "gridcolor": "white",
            "linecolor": "white",
            "ticks": ""
           }
          },
          "scene": {
           "xaxis": {
            "backgroundcolor": "#E5ECF6",
            "gridcolor": "white",
            "gridwidth": 2,
            "linecolor": "white",
            "showbackground": true,
            "ticks": "",
            "zerolinecolor": "white"
           },
           "yaxis": {
            "backgroundcolor": "#E5ECF6",
            "gridcolor": "white",
            "gridwidth": 2,
            "linecolor": "white",
            "showbackground": true,
            "ticks": "",
            "zerolinecolor": "white"
           },
           "zaxis": {
            "backgroundcolor": "#E5ECF6",
            "gridcolor": "white",
            "gridwidth": 2,
            "linecolor": "white",
            "showbackground": true,
            "ticks": "",
            "zerolinecolor": "white"
           }
          },
          "shapedefaults": {
           "line": {
            "color": "#2a3f5f"
           }
          },
          "ternary": {
           "aaxis": {
            "gridcolor": "white",
            "linecolor": "white",
            "ticks": ""
           },
           "baxis": {
            "gridcolor": "white",
            "linecolor": "white",
            "ticks": ""
           },
           "bgcolor": "#E5ECF6",
           "caxis": {
            "gridcolor": "white",
            "linecolor": "white",
            "ticks": ""
           }
          },
          "title": {
           "x": 0.05
          },
          "xaxis": {
           "automargin": true,
           "gridcolor": "white",
           "linecolor": "white",
           "ticks": "",
           "title": {
            "standoff": 15
           },
           "zerolinecolor": "white",
           "zerolinewidth": 2
          },
          "yaxis": {
           "automargin": true,
           "gridcolor": "white",
           "linecolor": "white",
           "ticks": "",
           "title": {
            "standoff": 15
           },
           "zerolinecolor": "white",
           "zerolinewidth": 2
          }
         }
        },
        "title": {
         "font": {
          "size": 20
         },
         "text": "Training MSE & Dev MSE vs 1/apha"
        },
        "xaxis": {
         "anchor": "y",
         "autorange": true,
         "domain": [
          0,
          1
         ],
         "range": [
          -3.999999999999999,
          5
         ],
         "title": {
          "text": "1/alpha"
         },
         "type": "log"
        },
        "yaxis": {
         "anchor": "x",
         "autorange": true,
         "domain": [
          0,
          1
         ],
         "range": [
          129294793.85092875,
          135302786.10593107
         ],
         "title": {
          "text": "Mean Squared Error"
         },
         "type": "linear"
        }
       }
      },
      "image/png": "[encoded data removed]",
      "text/html": [
       "<div>                            <div id=\"4ca54bfa-615d-443f-a38b-fdf990d504d7\" class=\"plotly-graph-div\" style=\"height:525px; width:100%;\"></div>            <script type=\"text/javascript\">                require([\"plotly\"], function(Plotly) {                    window.PLOTLYENV=window.PLOTLYENV || {};                                    if (document.getElementById(\"4ca54bfa-615d-443f-a38b-fdf990d504d7\")) {                    Plotly.newPlot(                        \"4ca54bfa-615d-443f-a38b-fdf990d504d7\",                        [{\"hovertemplate\":\"variable=Training MSE\\u003cbr\\u003e1\\u002falpha=%{x}\\u003cbr\\u003evalue=%{y}\\u003cextra\\u003e\\u003c\\u002fextra\\u003e\",\"legendgroup\":\"Training MSE\",\"line\":{\"color\":\"#636efa\",\"dash\":\"solid\"},\"marker\":{\"symbol\":\"circle\"},\"mode\":\"lines\",\"name\":\"Training MSE\",\"orientation\":\"v\",\"showlegend\":true,\"x\":[99999.99999999999,10000.0,1000.0,100.0,10.0,1.0,0.1,0.01,0.001,0.0001],\"xaxis\":\"x\",\"y\":[129624758.51718338,129624758.51718633,129624758.51748465,129624758.5472944,129624761.50864662,129625040.8629772,129643765.35765061,129967177.34789576,131100329.10283844,135002386.49318096],\"yaxis\":\"y\",\"type\":\"scatter\"},{\"hovertemplate\":\"variable=Dev MSE\\u003cbr\\u003e1\\u002falpha=%{x}\\u003cbr\\u003evalue=%{y}\\u003cextra\\u003e\\u003c\\u002fextra\\u003e\",\"legendgroup\":\"Dev MSE\",\"line\":{\"color\":\"#EF553B\",\"dash\":\"solid\"},\"marker\":{\"symbol\":\"circle\"},\"mode\":\"lines\",\"name\":\"Dev MSE\",\"orientation\":\"v\",\"showlegend\":true,\"x\":[99999.99999999999,10000.0,1000.0,100.0,10.0,1.0,0.1,0.01,0.001,0.0001],\"xaxis\":\"x\",\"y\":[129657721.0728396,129657720.12244107,129657710.61914116,129657615.65456335,129656672.74202536,129647837.97159971,129595193.46367887,129708711.14433233,130717510.0950669,134502550.2270305],\"yaxis\":\"y\",\"type\":\"scatter\"}],                        {\"template\":{\"data\":{\"histogram2dcontour\":[{\"type\":\"histogram2dcontour\",\"colorbar\":{\"outlinewidth\":0,\"ticks\":\"\"},\"colorscale\":[[0.0,\"#0d0887\"],[0.1111111111111111,\"#46039f\"],[0.2222222222222222,\"#7201a8\"],[0.3333333333333333,\"#9c179e\"],[0.4444444444444444,\"#bd3786\"],[0.5555555555555556,\"#d8576b\"],[0.6666666666666666,\"#ed7953\"],[0.7777777777777778,\"#fb9f3a\"],[0.8888888888888888,\"#fdca26\"],[1.0,\"#f0f921\"]]}],\"choropleth\":[{\"type\":\"choropleth\",\"colorbar\":{\"outlinewidth\":0,\"ticks\":\"\"}}],\"histogram2d\":[{\"type\":\"histogram2d\",\"colorbar\":{\"outlinewidth\":0,\"ticks\":\"\"},\"colorscale\":[[0.0,\"#0d0887\"],[0.1111111111111111,\"#46039f\"],[0.2222222222222222,\"#7201a8\"],[0.3333333333333333,\"#9c179e\"],[0.4444444444444444,\"#bd3786\"],[0.5555555555555556,\"#d8576b\"],[0.6666666666666666,\"#ed7953\"],[0.7777777777777778,\"#fb9f3a\"],[0.8888888888888888,\"#fdca26\"],[1.0,\"#f0f921\"]]}],\"heatmap\":[{\"type\":\"heatmap\",\"colorbar\":{\"outlinewidth\":0,\"ticks\":\"\"},\"colorscale\":[[0.0,\"#0d0887\"],[0.1111111111111111,\"#46039f\"],[0.2222222222222222,\"#7201a8\"],[0.3333333333333333,\"#9c179e\"],[0.4444444444444444,\"#bd3786\"],[0.5555555555555556,\"#d8576b\"],[0.6666666666666666,\"#ed7953\"],[0.7777777777777778,\"#fb9f3a\"],[0.8888888888888888,\"#fdca26\"],[1.0,\"#f0f921\"]]}],\"heatmapgl\":[{\"type\":\"heatmapgl\",\"colorbar\":{\"outlinewidth\":0,\"ticks\":\"\"},\"colorscale\":[[0.0,\"#0d0887\"],[0.1111111111111111,\"#46039f\"],[0.2222222222222222,\"#7201a8\"],[0.3333333333333333,\"#9c179e\"],[0.4444444444444444,\"#bd3786\"],[0.5555555555555556,\"#d8576b\"],[0.6666666666666666,\"#ed7953\"],[0.7777777777777778,\"#fb9f3a\"],[0.8888888888888888,\"#fdca26\"],[1.0,\"#f0f921\"]]}],\"contourcarpet\":[{\"type\":\"contourcarpet\",\"colorbar\":{\"outlinewidth\":0,\"ticks\":\"\"}}],\"contour\":[{\"type\":\"contour\",\"colorbar\":{\"outlinewidth\":0,\"ticks\":\"\"},\"colorscale\":[[0.0,\"#0d0887\"],[0.1111111111111111,\"#46039f\"],[0.2222222222222222,\"#7201a8\"],[0.3333333333333333,\"#9c179e\"],[0.4444444444444444,\"#bd3786\"],[0.5555555555555556,\"#d8576b\"],[0.6666666666666666,\"#ed7953\"],[0.7777777777777778,\"#fb9f3a\"],[0.8888888888888888,\"#fdca26\"],[1.0,\"#f0f921\"]]}],\"surface\":[{\"type\":\"surface\",\"colorbar\":{\"outlinewidth\":0,\"ticks\":\"\"},\"colorscale\":[[0.0,\"#0d0887\"],[0.1111111111111111,\"#46039f\"],[0.2222222222222222,\"#7201a8\"],[0.3333333333333333,\"#9c179e\"],[0.4444444444444444,\"#bd3786\"],[0.5555555555555556,\"#d8576b\"],[0.6666666666666666,\"#ed7953\"],[0.7777777777777778,\"#fb9f3a\"],[0.8888888888888888,\"#fdca26\"],[1.0,\"#f0f921\"]]}],\"mesh3d\":[{\"type\":\"mesh3d\",\"colorbar\":{\"outlinewidth\":0,\"ticks\":\"\"}}],\"scatter\":[{\"fillpattern\":{\"fillmode\":\"overlay\",\"size\":10,\"solidity\":0.2},\"type\":\"scatter\"}],\"parcoords\":[{\"type\":\"parcoords\",\"line\":{\"colorbar\":{\"outlinewidth\":0,\"ticks\":\"\"}}}],\"scatterpolargl\":[{\"type\":\"scatterpolargl\",\"marker\":{\"colorbar\":{\"outlinewidth\":0,\"ticks\":\"\"}}}],\"bar\":[{\"error_x\":{\"color\":\"#2a3f5f\"},\"error_y\":{\"color\":\"#2a3f5f\"},\"marker\":{\"line\":{\"color\":\"#E5ECF6\",\"width\":0.5},\"pattern\":{\"fillmode\":\"overlay\",\"size\":10,\"solidity\":0.2}},\"type\":\"bar\"}],\"scattergeo\":[{\"type\":\"scattergeo\",\"marker\":{\"colorbar\":{\"outlinewidth\":0,\"ticks\":\"\"}}}],\"scatterpolar\":[{\"type\":\"scatterpolar\",\"marker\":{\"colorbar\":{\"outlinewidth\":0,\"ticks\":\"\"}}}],\"histogram\":[{\"marker\":{\"pattern\":{\"fillmode\":\"overlay\",\"size\":10,\"solidity\":0.2}},\"type\":\"histogram\"}],\"scattergl\":[{\"type\":\"scattergl\",\"marker\":{\"colorbar\":{\"outlinewidth\":0,\"ticks\":\"\"}}}],\"scatter3d\":[{\"type\":\"scatter3d\",\"line\":{\"colorbar\":{\"outlinewidth\":0,\"ticks\":\"\"}},\"marker\":{\"colorbar\":{\"outlinewidth\":0,\"ticks\":\"\"}}}],\"scattermapbox\":[{\"type\":\"scattermapbox\",\"marker\":{\"colorbar\":{\"outlinewidth\":0,\"ticks\":\"\"}}}],\"scatterternary\":[{\"type\":\"scatterternary\",\"marker\":{\"colorbar\":{\"outlinewidth\":0,\"ticks\":\"\"}}}],\"scattercarpet\":[{\"type\":\"scattercarpet\",\"marker\":{\"colorbar\":{\"outlinewidth\":0,\"ticks\":\"\"}}}],\"carpet\":[{\"aaxis\":{\"endlinecolor\":\"#2a3f5f\",\"gridcolor\":\"white\",\"linecolor\":\"white\",\"minorgridcolor\":\"white\",\"startlinecolor\":\"#2a3f5f\"},\"baxis\":{\"endlinecolor\":\"#2a3f5f\",\"gridcolor\":\"white\",\"linecolor\":\"white\",\"minorgridcolor\":\"white\",\"startlinecolor\":\"#2a3f5f\"},\"type\":\"carpet\"}],\"table\":[{\"cells\":{\"fill\":{\"color\":\"#EBF0F8\"},\"line\":{\"color\":\"white\"}},\"header\":{\"fill\":{\"color\":\"#C8D4E3\"},\"line\":{\"color\":\"white\"}},\"type\":\"table\"}],\"barpolar\":[{\"marker\":{\"line\":{\"color\":\"#E5ECF6\",\"width\":0.5},\"pattern\":{\"fillmode\":\"overlay\",\"size\":10,\"solidity\":0.2}},\"type\":\"barpolar\"}],\"pie\":[{\"automargin\":true,\"type\":\"pie\"}]},\"layout\":{\"autotypenumbers\":\"strict\",\"colorway\":[\"#636efa\",\"#EF553B\",\"#00cc96\",\"#ab63fa\",\"#FFA15A\",\"#19d3f3\",\"#FF6692\",\"#B6E880\",\"#FF97FF\",\"#FECB52\"],\"font\":{\"color\":\"#2a3f5f\"},\"hovermode\":\"closest\",\"hoverlabel\":{\"align\":\"left\"},\"paper_bgcolor\":\"white\",\"plot_bgcolor\":\"#E5ECF6\",\"polar\":{\"bgcolor\":\"#E5ECF6\",\"angularaxis\":{\"gridcolor\":\"white\",\"linecolor\":\"white\",\"ticks\":\"\"},\"radialaxis\":{\"gridcolor\":\"white\",\"linecolor\":\"white\",\"ticks\":\"\"}},\"ternary\":{\"bgcolor\":\"#E5ECF6\",\"aaxis\":{\"gridcolor\":\"white\",\"linecolor\":\"white\",\"ticks\":\"\"},\"baxis\":{\"gridcolor\":\"white\",\"linecolor\":\"white\",\"ticks\":\"\"},\"caxis\":{\"gridcolor\":\"white\",\"linecolor\":\"white\",\"ticks\":\"\"}},\"coloraxis\":{\"colorbar\":{\"outlinewidth\":0,\"ticks\":\"\"}},\"colorscale\":{\"sequential\":[[0.0,\"#0d0887\"],[0.1111111111111111,\"#46039f\"],[0.2222222222222222,\"#7201a8\"],[0.3333333333333333,\"#9c179e\"],[0.4444444444444444,\"#bd3786\"],[0.5555555555555556,\"#d8576b\"],[0.6666666666666666,\"#ed7953\"],[0.7777777777777778,\"#fb9f3a\"],[0.8888888888888888,\"#fdca26\"],[1.0,\"#f0f921\"]],\"sequentialminus\":[[0.0,\"#0d0887\"],[0.1111111111111111,\"#46039f\"],[0.2222222222222222,\"#7201a8\"],[0.3333333333333333,\"#9c179e\"],[0.4444444444444444,\"#bd3786\"],[0.5555555555555556,\"#d8576b\"],[0.6666666666666666,\"#ed7953\"],[0.7777777777777778,\"#fb9f3a\"],[0.8888888888888888,\"#fdca26\"],[1.0,\"#f0f921\"]],\"diverging\":[[0,\"#8e0152\"],[0.1,\"#c51b7d\"],[0.2,\"#de77ae\"],[0.3,\"#f1b6da\"],[0.4,\"#fde0ef\"],[0.5,\"#f7f7f7\"],[0.6,\"#e6f5d0\"],[0.7,\"#b8e186\"],[0.8,\"#7fbc41\"],[0.9,\"#4d9221\"],[1,\"#276419\"]]},\"xaxis\":{\"gridcolor\":\"white\",\"linecolor\":\"white\",\"ticks\":\"\",\"title\":{\"standoff\":15},\"zerolinecolor\":\"white\",\"automargin\":true,\"zerolinewidth\":2},\"yaxis\":{\"gridcolor\":\"white\",\"linecolor\":\"white\",\"ticks\":\"\",\"title\":{\"standoff\":15},\"zerolinecolor\":\"white\",\"automargin\":true,\"zerolinewidth\":2},\"scene\":{\"xaxis\":{\"backgroundcolor\":\"#E5ECF6\",\"gridcolor\":\"white\",\"linecolor\":\"white\",\"showbackground\":true,\"ticks\":\"\",\"zerolinecolor\":\"white\",\"gridwidth\":2},\"yaxis\":{\"backgroundcolor\":\"#E5ECF6\",\"gridcolor\":\"white\",\"linecolor\":\"white\",\"showbackground\":true,\"ticks\":\"\",\"zerolinecolor\":\"white\",\"gridwidth\":2},\"zaxis\":{\"backgroundcolor\":\"#E5ECF6\",\"gridcolor\":\"white\",\"linecolor\":\"white\",\"showbackground\":true,\"ticks\":\"\",\"zerolinecolor\":\"white\",\"gridwidth\":2}},\"shapedefaults\":{\"line\":{\"color\":\"#2a3f5f\"}},\"annotationdefaults\":{\"arrowcolor\":\"#2a3f5f\",\"arrowhead\":0,\"arrowwidth\":1},\"geo\":{\"bgcolor\":\"white\",\"landcolor\":\"#E5ECF6\",\"subunitcolor\":\"white\",\"showland\":true,\"showlakes\":true,\"lakecolor\":\"white\"},\"title\":{\"x\":0.05},\"mapbox\":{\"style\":\"light\"}}},\"xaxis\":{\"anchor\":\"y\",\"domain\":[0.0,1.0],\"title\":{\"text\":\"1\\u002falpha\"},\"type\":\"log\"},\"yaxis\":{\"anchor\":\"x\",\"domain\":[0.0,1.0],\"title\":{\"text\":\"Mean Squared Error\"}},\"legend\":{\"title\":{\"text\":\"variable\"},\"tracegroupgap\":0},\"margin\":{\"t\":60},\"title\":{\"font\":{\"size\":20},\"text\":\"Training MSE & Dev MSE vs 1\\u002fapha\"}},                        {\"responsive\": true}                    ).then(function(){\n",
       "                            \n",
       "var gd = document.getElementById('4ca54bfa-615d-443f-a38b-fdf990d504d7');\n",
       "var x = new MutationObserver(function (mutations, observer) {{\n",
       "        var display = window.getComputedStyle(gd).display;\n",
       "        if (!display || display === 'none') {{\n",
       "            console.log([gd, 'removed!']);\n",
       "            Plotly.purge(gd);\n",
       "            observer.disconnect();\n",
       "        }}\n",
       "}});\n",
       "\n",
       "// Listen for the removal of the full notebook cells\n",
       "var notebookContainer = gd.closest('#notebook-container');\n",
       "if (notebookContainer) {{\n",
       "    x.observe(notebookContainer, {childList: true});\n",
       "}}\n",
       "\n",
       "// Listen for the clearing of the current output cell\n",
       "var outputEl = gd.closest('.output');\n",
       "if (outputEl) {{\n",
       "    x.observe(outputEl, {childList: true});\n",
       "}}\n",
       "\n",
       "                        })                };                });            </script>        </div>"
      ]
     },
     "metadata": {},
     "output_type": "display_data"
    }
   ],
   "source": [
    "results[\"1/alpha\"] = 1.0/results[\"alpha\"]\n",
    "\n",
    "fig = px.line(results, x = \"1/alpha\", y = [\"Training MSE\", \"Dev MSE\"], log_x = True)\n",
    "#fig.write_image(\"MSE_vs_1_over_alpha_for_162_parameter_model.png\", scale = 3)\n",
    "fig.update_layout(yaxis_title=\"Mean Squared Error\")\n",
    "fig.update_layout(title=dict(text=\"Training MSE & Dev MSE vs 1/apha\", font=dict(size=20)))\n",
    "fig.show()"
   ]
  },
  {
   "cell_type": "code",
   "execution_count": 385,
   "metadata": {},
   "outputs": [
    {
     "data": {
      "text/html": [
       "<div>\n",
       "<style scoped>\n",
       "    .dataframe tbody tr th:only-of-type {\n",
       "        vertical-align: middle;\n",
       "    }\n",
       "\n",
       "    .dataframe tbody tr th {\n",
       "        vertical-align: top;\n",
       "    }\n",
       "\n",
       "    .dataframe thead th {\n",
       "        text-align: right;\n",
       "    }\n",
       "</style>\n",
       "<table border=\"1\" class=\"dataframe\">\n",
       "  <thead>\n",
       "    <tr style=\"text-align: right;\">\n",
       "      <th></th>\n",
       "      <th>alpha</th>\n",
       "      <th>Training MSE</th>\n",
       "      <th>Dev MSE</th>\n",
       "      <th>1/alpha</th>\n",
       "    </tr>\n",
       "  </thead>\n",
       "  <tbody>\n",
       "    <tr>\n",
       "      <th>0</th>\n",
       "      <td>0.00001</td>\n",
       "      <td>1.296248e+08</td>\n",
       "      <td>1.296577e+08</td>\n",
       "      <td>100000.0000</td>\n",
       "    </tr>\n",
       "    <tr>\n",
       "      <th>1</th>\n",
       "      <td>0.00010</td>\n",
       "      <td>1.296248e+08</td>\n",
       "      <td>1.296577e+08</td>\n",
       "      <td>10000.0000</td>\n",
       "    </tr>\n",
       "    <tr>\n",
       "      <th>2</th>\n",
       "      <td>0.00100</td>\n",
       "      <td>1.296248e+08</td>\n",
       "      <td>1.296577e+08</td>\n",
       "      <td>1000.0000</td>\n",
       "    </tr>\n",
       "    <tr>\n",
       "      <th>3</th>\n",
       "      <td>0.01000</td>\n",
       "      <td>1.296248e+08</td>\n",
       "      <td>1.296576e+08</td>\n",
       "      <td>100.0000</td>\n",
       "    </tr>\n",
       "    <tr>\n",
       "      <th>4</th>\n",
       "      <td>0.10000</td>\n",
       "      <td>1.296248e+08</td>\n",
       "      <td>1.296567e+08</td>\n",
       "      <td>10.0000</td>\n",
       "    </tr>\n",
       "    <tr>\n",
       "      <th>5</th>\n",
       "      <td>1.00000</td>\n",
       "      <td>1.296250e+08</td>\n",
       "      <td>1.296478e+08</td>\n",
       "      <td>1.0000</td>\n",
       "    </tr>\n",
       "    <tr>\n",
       "      <th>6</th>\n",
       "      <td>10.00000</td>\n",
       "      <td>1.296438e+08</td>\n",
       "      <td>1.295952e+08</td>\n",
       "      <td>0.1000</td>\n",
       "    </tr>\n",
       "    <tr>\n",
       "      <th>7</th>\n",
       "      <td>100.00000</td>\n",
       "      <td>1.299672e+08</td>\n",
       "      <td>1.297087e+08</td>\n",
       "      <td>0.0100</td>\n",
       "    </tr>\n",
       "    <tr>\n",
       "      <th>8</th>\n",
       "      <td>1000.00000</td>\n",
       "      <td>1.311003e+08</td>\n",
       "      <td>1.307175e+08</td>\n",
       "      <td>0.0010</td>\n",
       "    </tr>\n",
       "    <tr>\n",
       "      <th>9</th>\n",
       "      <td>10000.00000</td>\n",
       "      <td>1.350024e+08</td>\n",
       "      <td>1.345026e+08</td>\n",
       "      <td>0.0001</td>\n",
       "    </tr>\n",
       "  </tbody>\n",
       "</table>\n",
       "</div>"
      ],
      "text/plain": [
       "         alpha  Training MSE       Dev MSE      1/alpha\n",
       "0      0.00001  1.296248e+08  1.296577e+08  100000.0000\n",
       "1      0.00010  1.296248e+08  1.296577e+08   10000.0000\n",
       "2      0.00100  1.296248e+08  1.296577e+08    1000.0000\n",
       "3      0.01000  1.296248e+08  1.296576e+08     100.0000\n",
       "4      0.10000  1.296248e+08  1.296567e+08      10.0000\n",
       "5      1.00000  1.296250e+08  1.296478e+08       1.0000\n",
       "6     10.00000  1.296438e+08  1.295952e+08       0.1000\n",
       "7    100.00000  1.299672e+08  1.297087e+08       0.0100\n",
       "8   1000.00000  1.311003e+08  1.307175e+08       0.0010\n",
       "9  10000.00000  1.350024e+08  1.345026e+08       0.0001"
      ]
     },
     "metadata": {},
     "output_type": "display_data"
    },
    {
     "data": {
      "text/plain": [
       "alpha           1.000000e+01\n",
       "Training MSE    1.296438e+08\n",
       "Dev MSE         1.295952e+08\n",
       "1/alpha         1.000000e-01\n",
       "Name: 6, dtype: float64"
      ]
     },
     "execution_count": 385,
     "metadata": {},
     "output_type": "execute_result"
    }
   ],
   "source": [
    "display(results)\n",
    "results.sort_values(\"Dev MSE\").iloc[0, :]"
   ]
  },
  {
   "cell_type": "code",
   "execution_count": null,
   "metadata": {},
   "outputs": [],
   "source": [
    "# alpha\t    Training MSE    Dev MSE\t        1/alpha\n",
    "# 10.00000\t1.296438e+08\t1.295952e+08\t0.1000\n",
    "#100.00000\t1.299672e+08\t1.297087e+08\t0.0100\n",
    "\n",
    "# choose 1/alpha = 0.1 for best-fit and avoid overfit\n"
   ]
  },
  {
   "cell_type": "code",
   "execution_count": 395,
   "metadata": {},
   "outputs": [],
   "source": [
    "ridge_model = Ridge(alpha = 0.1)\n",
    "ridge_model.fit(X_train, y_train)\n",
    "training_error = mean_squared_error(ridge_model.predict(X_train), y_train)\n",
    "validation_error = mean_squared_error(ridge_model.predict(X_test), y_test)\n",
    "\n",
    "\n"
   ]
  },
  {
   "cell_type": "code",
   "execution_count": null,
   "metadata": {},
   "outputs": [],
   "source": []
  },
  {
   "cell_type": "markdown",
   "metadata": {},
   "source": [
    "### Evaluation\n",
    "\n",
    "With some modeling accomplished, we aim to reflect on what we identify as a high-quality model and what we are able to learn from this.  We should review our business objective and explore how well we can provide meaningful insight into drivers of used car prices.  Your goal now is to distill your findings and determine whether the earlier phases need revisitation and adjustment or if you have information of value to bring back to your client."
   ]
  },
  {
   "cell_type": "code",
   "execution_count": 393,
   "metadata": {},
   "outputs": [
    {
     "data": {
      "text/plain": [
       "array([ 2.44855479e+03, -5.37020782e+03,  1.56203605e+02,  2.92170710e+03,\n",
       "        1.34914937e+04,  2.15058961e+03, -1.39149101e+03, -3.06127037e+03,\n",
       "       -1.92974462e+01, -1.68751893e+03, -5.14553819e+03,  3.64652525e+03,\n",
       "       -4.84430484e+03,  5.64762933e+04, -8.45814054e+03, -1.77772511e+03,\n",
       "       -3.11571684e+02, -1.22074754e+04, -2.48319994e+03, -5.38406873e+03,\n",
       "       -1.49530139e+03,  1.29268129e+03, -2.39098110e+03, -5.90256536e+03,\n",
       "       -8.37299234e+03,  1.29817739e+03, -2.06796668e+01, -4.83996955e+03,\n",
       "       -1.01390618e+03, -5.58636199e+03, -3.67917329e+03, -7.53435856e+03,\n",
       "        1.75427944e+03, -5.38256058e+03, -2.48473776e+03,  9.83180660e+03,\n",
       "       -6.15696308e+02,  5.00032612e+03, -5.83603466e+03, -3.52880748e+03,\n",
       "        1.47528824e+04, -6.27114750e+02, -2.52517499e+03, -5.02940487e+03,\n",
       "        8.64457159e+02,  1.52882016e+02, -3.17105736e+03,  7.66380183e+02,\n",
       "        1.66742381e+03,  3.45223536e+03, -2.80808287e+03, -5.97811268e+01,\n",
       "        3.60944547e+02,  1.79639609e+04, -6.57289991e+03, -4.20335021e+03,\n",
       "       -4.46305199e+03, -1.96076715e+03,  6.74196731e+02, -1.79903293e+03,\n",
       "        9.53486763e+03, -4.73598544e+03, -2.32994185e+03, -1.89930601e+03,\n",
       "       -5.69634347e+02,  2.46771362e+03,  4.80909319e+03, -7.03743831e+02,\n",
       "       -4.94965333e+03, -7.56291301e+02, -1.67226723e+03,  8.05148889e+02,\n",
       "       -1.53195376e+03,  1.92469776e+02,  1.33948400e+03,  2.41680946e+03,\n",
       "       -2.38118843e+03,  7.88965516e+02, -8.24586545e+02, -4.19973332e+02,\n",
       "       -5.44207378e+02, -9.80800614e+01, -9.53702275e+02,  2.01596305e+03,\n",
       "       -1.14745062e+03, -4.23537389e+03,  2.47789314e+03,  2.33340085e+03,\n",
       "       -3.17065065e+03,  3.94686562e+02,  7.61526116e+02,  3.71224630e+02,\n",
       "        3.95580843e+03, -2.46960270e+03,  1.54398141e+03,  1.50808910e+03,\n",
       "       -2.32353237e+03,  8.90436490e+02, -1.95728390e+02, -6.39449213e+02,\n",
       "        4.16711962e+02, -7.50109883e+02,  2.65104279e+01,  2.93807183e+02,\n",
       "        2.14637366e+03, -8.10800564e+01, -7.90456061e+02, -2.30087897e+03,\n",
       "        3.25398298e+02,  6.58464565e+02,  3.91588025e+03,  1.33905309e+03,\n",
       "       -7.86887478e+02,  4.01954421e+02, -5.22740993e+02,  5.33913077e+02,\n",
       "       -1.56606711e+03, -2.27654695e+03, -8.69123071e+02, -1.80799914e+02,\n",
       "       -6.48310317e+02,  1.12736317e+03,  2.85725905e+02,  1.35600439e+03,\n",
       "       -1.62587520e+03, -6.01202039e+01,  1.52847961e+03,  4.93584426e+02,\n",
       "       -9.51375841e+02, -1.93179284e+03, -1.47923429e+03, -3.10921695e+03,\n",
       "       -7.64584188e+02, -6.87261854e+02,  1.44210127e+03, -3.67551045e+02,\n",
       "        4.73765199e+03, -1.03725498e+03,  1.91222675e+03,  1.23508663e+03,\n",
       "       -1.94315299e+03, -1.26000963e+03, -2.79954682e+02,  1.83384307e+03,\n",
       "       -1.72111302e+03, -1.24484109e+03, -9.41285951e+02, -2.43577186e+03,\n",
       "       -1.76807651e+03, -5.70507004e+02, -1.96805046e+02,  1.33698452e+03,\n",
       "        1.32463752e+03,  1.09306105e+03,  5.61781469e+03, -3.18916509e+03,\n",
       "       -8.83903090e+02,  2.27545599e+03, -1.09863316e+03,  1.14312643e+03,\n",
       "        1.46401412e+03])"
      ]
     },
     "metadata": {},
     "output_type": "display_data"
    },
    {
     "data": {
      "text/plain": [
       "Index(['year', 'odometer', 'manufacturer_acura', 'manufacturer_alfa-romeo',\n",
       "       'manufacturer_aston-martin', 'manufacturer_audi', 'manufacturer_bmw',\n",
       "       'manufacturer_buick', 'manufacturer_cadillac', 'manufacturer_chevrolet',\n",
       "       ...\n",
       "       'state_sd', 'state_tn', 'state_tx', 'state_ut', 'state_va', 'state_vt',\n",
       "       'state_wa', 'state_wi', 'state_wv', 'state_wy'],\n",
       "      dtype='object', length=161)"
      ]
     },
     "metadata": {},
     "output_type": "display_data"
    }
   ],
   "source": [
    "display(ridge_model.coef_)\n",
    "display(X_train.columns)"
   ]
  },
  {
   "cell_type": "code",
   "execution_count": 415,
   "metadata": {},
   "outputs": [
    {
     "data": {
      "text/html": [
       "<div>\n",
       "<style scoped>\n",
       "    .dataframe tbody tr th:only-of-type {\n",
       "        vertical-align: middle;\n",
       "    }\n",
       "\n",
       "    .dataframe tbody tr th {\n",
       "        vertical-align: top;\n",
       "    }\n",
       "\n",
       "    .dataframe thead th {\n",
       "        text-align: right;\n",
       "    }\n",
       "</style>\n",
       "<table border=\"1\" class=\"dataframe\">\n",
       "  <thead>\n",
       "    <tr style=\"text-align: right;\">\n",
       "      <th></th>\n",
       "      <th>model_coef</th>\n",
       "      <th>feature_name</th>\n",
       "    </tr>\n",
       "  </thead>\n",
       "  <tbody>\n",
       "    <tr>\n",
       "      <th>13</th>\n",
       "      <td>56476.293286</td>\n",
       "      <td>manufacturer_ferrari</td>\n",
       "    </tr>\n",
       "    <tr>\n",
       "      <th>53</th>\n",
       "      <td>17963.960916</td>\n",
       "      <td>cylinders_12 cylinders</td>\n",
       "    </tr>\n",
       "    <tr>\n",
       "      <th>40</th>\n",
       "      <td>14752.882401</td>\n",
       "      <td>manufacturer_tesla</td>\n",
       "    </tr>\n",
       "    <tr>\n",
       "      <th>4</th>\n",
       "      <td>13491.493738</td>\n",
       "      <td>manufacturer_aston-martin</td>\n",
       "    </tr>\n",
       "    <tr>\n",
       "      <th>35</th>\n",
       "      <td>9831.806600</td>\n",
       "      <td>manufacturer_porsche</td>\n",
       "    </tr>\n",
       "    <tr>\n",
       "      <th>60</th>\n",
       "      <td>9534.867634</td>\n",
       "      <td>fuel_diesel</td>\n",
       "    </tr>\n",
       "    <tr>\n",
       "      <th>154</th>\n",
       "      <td>5617.814687</td>\n",
       "      <td>state_ut</td>\n",
       "    </tr>\n",
       "    <tr>\n",
       "      <th>37</th>\n",
       "      <td>5000.326122</td>\n",
       "      <td>manufacturer_rover</td>\n",
       "    </tr>\n",
       "    <tr>\n",
       "      <th>66</th>\n",
       "      <td>4809.093186</td>\n",
       "      <td>title_status_lien</td>\n",
       "    </tr>\n",
       "    <tr>\n",
       "      <th>136</th>\n",
       "      <td>4737.651987</td>\n",
       "      <td>state_mt</td>\n",
       "    </tr>\n",
       "    <tr>\n",
       "      <th>92</th>\n",
       "      <td>3955.808428</td>\n",
       "      <td>type_pickup</td>\n",
       "    </tr>\n",
       "    <tr>\n",
       "      <th>110</th>\n",
       "      <td>3915.880247</td>\n",
       "      <td>state_ak</td>\n",
       "    </tr>\n",
       "    <tr>\n",
       "      <th>11</th>\n",
       "      <td>3646.525253</td>\n",
       "      <td>manufacturer_datsun</td>\n",
       "    </tr>\n",
       "    <tr>\n",
       "      <th>49</th>\n",
       "      <td>3452.235361</td>\n",
       "      <td>condition_new</td>\n",
       "    </tr>\n",
       "    <tr>\n",
       "      <th>3</th>\n",
       "      <td>2921.707096</td>\n",
       "      <td>manufacturer_alfa-romeo</td>\n",
       "    </tr>\n",
       "    <tr>\n",
       "      <th>86</th>\n",
       "      <td>2477.893142</td>\n",
       "      <td>type_convertible</td>\n",
       "    </tr>\n",
       "    <tr>\n",
       "      <th>65</th>\n",
       "      <td>2467.713619</td>\n",
       "      <td>title_status_clean</td>\n",
       "    </tr>\n",
       "    <tr>\n",
       "      <th>0</th>\n",
       "      <td>2448.554789</td>\n",
       "      <td>year</td>\n",
       "    </tr>\n",
       "    <tr>\n",
       "      <th>75</th>\n",
       "      <td>2416.809460</td>\n",
       "      <td>drive_4wd</td>\n",
       "    </tr>\n",
       "    <tr>\n",
       "      <th>87</th>\n",
       "      <td>2333.400852</td>\n",
       "      <td>type_coupe</td>\n",
       "    </tr>\n",
       "    <tr>\n",
       "      <th>157</th>\n",
       "      <td>2275.455991</td>\n",
       "      <td>state_wa</td>\n",
       "    </tr>\n",
       "    <tr>\n",
       "      <th>5</th>\n",
       "      <td>2150.589606</td>\n",
       "      <td>manufacturer_audi</td>\n",
       "    </tr>\n",
       "    <tr>\n",
       "      <th>104</th>\n",
       "      <td>2146.373663</td>\n",
       "      <td>paint_color_purple</td>\n",
       "    </tr>\n",
       "    <tr>\n",
       "      <th>83</th>\n",
       "      <td>2015.963046</td>\n",
       "      <td>size_unknown</td>\n",
       "    </tr>\n",
       "    <tr>\n",
       "      <th>138</th>\n",
       "      <td>1912.226747</td>\n",
       "      <td>state_nd</td>\n",
       "    </tr>\n",
       "    <tr>\n",
       "      <th>143</th>\n",
       "      <td>1833.843070</td>\n",
       "      <td>state_nv</td>\n",
       "    </tr>\n",
       "    <tr>\n",
       "      <th>32</th>\n",
       "      <td>1754.279442</td>\n",
       "      <td>manufacturer_morgan</td>\n",
       "    </tr>\n",
       "    <tr>\n",
       "      <th>48</th>\n",
       "      <td>1667.423809</td>\n",
       "      <td>condition_like new</td>\n",
       "    </tr>\n",
       "    <tr>\n",
       "      <th>94</th>\n",
       "      <td>1543.981413</td>\n",
       "      <td>type_truck</td>\n",
       "    </tr>\n",
       "    <tr>\n",
       "      <th>126</th>\n",
       "      <td>1528.479615</td>\n",
       "      <td>state_ks</td>\n",
       "    </tr>\n",
       "    <tr>\n",
       "      <th>95</th>\n",
       "      <td>1508.089100</td>\n",
       "      <td>type_van</td>\n",
       "    </tr>\n",
       "    <tr>\n",
       "      <th>160</th>\n",
       "      <td>1464.014121</td>\n",
       "      <td>state_wy</td>\n",
       "    </tr>\n",
       "    <tr>\n",
       "      <th>134</th>\n",
       "      <td>1442.101271</td>\n",
       "      <td>state_mo</td>\n",
       "    </tr>\n",
       "    <tr>\n",
       "      <th>123</th>\n",
       "      <td>1356.004391</td>\n",
       "      <td>state_id</td>\n",
       "    </tr>\n",
       "    <tr>\n",
       "      <th>74</th>\n",
       "      <td>1339.483997</td>\n",
       "      <td>transmission_other</td>\n",
       "    </tr>\n",
       "    <tr>\n",
       "      <th>111</th>\n",
       "      <td>1339.053089</td>\n",
       "      <td>state_al</td>\n",
       "    </tr>\n",
       "    <tr>\n",
       "      <th>151</th>\n",
       "      <td>1336.984524</td>\n",
       "      <td>state_sd</td>\n",
       "    </tr>\n",
       "    <tr>\n",
       "      <th>152</th>\n",
       "      <td>1324.637523</td>\n",
       "      <td>state_tn</td>\n",
       "    </tr>\n",
       "    <tr>\n",
       "      <th>25</th>\n",
       "      <td>1298.177386</td>\n",
       "      <td>manufacturer_lexus</td>\n",
       "    </tr>\n",
       "    <tr>\n",
       "      <th>21</th>\n",
       "      <td>1292.681285</td>\n",
       "      <td>manufacturer_jaguar</td>\n",
       "    </tr>\n",
       "    <tr>\n",
       "      <th>139</th>\n",
       "      <td>1235.086627</td>\n",
       "      <td>state_ne</td>\n",
       "    </tr>\n",
       "    <tr>\n",
       "      <th>159</th>\n",
       "      <td>1143.126426</td>\n",
       "      <td>state_wv</td>\n",
       "    </tr>\n",
       "    <tr>\n",
       "      <th>121</th>\n",
       "      <td>1127.363173</td>\n",
       "      <td>state_hi</td>\n",
       "    </tr>\n",
       "    <tr>\n",
       "      <th>153</th>\n",
       "      <td>1093.061046</td>\n",
       "      <td>state_tx</td>\n",
       "    </tr>\n",
       "    <tr>\n",
       "      <th>97</th>\n",
       "      <td>890.436490</td>\n",
       "      <td>paint_color_black</td>\n",
       "    </tr>\n",
       "    <tr>\n",
       "      <th>44</th>\n",
       "      <td>864.457159</td>\n",
       "      <td>manufacturer_volvo</td>\n",
       "    </tr>\n",
       "    <tr>\n",
       "      <th>71</th>\n",
       "      <td>805.148889</td>\n",
       "      <td>title_status_unknown</td>\n",
       "    </tr>\n",
       "    <tr>\n",
       "      <th>77</th>\n",
       "      <td>788.965516</td>\n",
       "      <td>drive_rwd</td>\n",
       "    </tr>\n",
       "    <tr>\n",
       "      <th>47</th>\n",
       "      <td>766.380183</td>\n",
       "      <td>condition_good</td>\n",
       "    </tr>\n",
       "    <tr>\n",
       "      <th>90</th>\n",
       "      <td>761.526116</td>\n",
       "      <td>type_offroad</td>\n",
       "    </tr>\n",
       "    <tr>\n",
       "      <th>58</th>\n",
       "      <td>674.196731</td>\n",
       "      <td>cylinders_8 cylinders</td>\n",
       "    </tr>\n",
       "    <tr>\n",
       "      <th>109</th>\n",
       "      <td>658.464565</td>\n",
       "      <td>paint_color_yellow</td>\n",
       "    </tr>\n",
       "    <tr>\n",
       "      <th>115</th>\n",
       "      <td>533.913077</td>\n",
       "      <td>state_co</td>\n",
       "    </tr>\n",
       "    <tr>\n",
       "      <th>127</th>\n",
       "      <td>493.584426</td>\n",
       "      <td>state_ky</td>\n",
       "    </tr>\n",
       "    <tr>\n",
       "      <th>100</th>\n",
       "      <td>416.711962</td>\n",
       "      <td>paint_color_custom</td>\n",
       "    </tr>\n",
       "    <tr>\n",
       "      <th>113</th>\n",
       "      <td>401.954421</td>\n",
       "      <td>state_az</td>\n",
       "    </tr>\n",
       "    <tr>\n",
       "      <th>89</th>\n",
       "      <td>394.686562</td>\n",
       "      <td>type_mini-van</td>\n",
       "    </tr>\n",
       "    <tr>\n",
       "      <th>91</th>\n",
       "      <td>371.224630</td>\n",
       "      <td>type_other</td>\n",
       "    </tr>\n",
       "    <tr>\n",
       "      <th>52</th>\n",
       "      <td>360.944547</td>\n",
       "      <td>cylinders_10 cylinders</td>\n",
       "    </tr>\n",
       "    <tr>\n",
       "      <th>108</th>\n",
       "      <td>325.398298</td>\n",
       "      <td>paint_color_white</td>\n",
       "    </tr>\n",
       "    <tr>\n",
       "      <th>103</th>\n",
       "      <td>293.807183</td>\n",
       "      <td>paint_color_orange</td>\n",
       "    </tr>\n",
       "    <tr>\n",
       "      <th>122</th>\n",
       "      <td>285.725905</td>\n",
       "      <td>state_ia</td>\n",
       "    </tr>\n",
       "    <tr>\n",
       "      <th>73</th>\n",
       "      <td>192.469776</td>\n",
       "      <td>transmission_manual</td>\n",
       "    </tr>\n",
       "    <tr>\n",
       "      <th>2</th>\n",
       "      <td>156.203605</td>\n",
       "      <td>manufacturer_acura</td>\n",
       "    </tr>\n",
       "    <tr>\n",
       "      <th>45</th>\n",
       "      <td>152.882016</td>\n",
       "      <td>condition_excellent</td>\n",
       "    </tr>\n",
       "    <tr>\n",
       "      <th>102</th>\n",
       "      <td>26.510428</td>\n",
       "      <td>paint_color_grey</td>\n",
       "    </tr>\n",
       "    <tr>\n",
       "      <th>8</th>\n",
       "      <td>-19.297446</td>\n",
       "      <td>manufacturer_cadillac</td>\n",
       "    </tr>\n",
       "    <tr>\n",
       "      <th>26</th>\n",
       "      <td>-20.679667</td>\n",
       "      <td>manufacturer_lincoln</td>\n",
       "    </tr>\n",
       "    <tr>\n",
       "      <th>51</th>\n",
       "      <td>-59.781127</td>\n",
       "      <td>condition_unknown</td>\n",
       "    </tr>\n",
       "    <tr>\n",
       "      <th>125</th>\n",
       "      <td>-60.120204</td>\n",
       "      <td>state_in</td>\n",
       "    </tr>\n",
       "    <tr>\n",
       "      <th>105</th>\n",
       "      <td>-81.080056</td>\n",
       "      <td>paint_color_red</td>\n",
       "    </tr>\n",
       "    <tr>\n",
       "      <th>81</th>\n",
       "      <td>-98.080061</td>\n",
       "      <td>size_mid-size</td>\n",
       "    </tr>\n",
       "    <tr>\n",
       "      <th>119</th>\n",
       "      <td>-180.799914</td>\n",
       "      <td>state_fl</td>\n",
       "    </tr>\n",
       "    <tr>\n",
       "      <th>98</th>\n",
       "      <td>-195.728390</td>\n",
       "      <td>paint_color_blue</td>\n",
       "    </tr>\n",
       "    <tr>\n",
       "      <th>150</th>\n",
       "      <td>-196.805046</td>\n",
       "      <td>state_sc</td>\n",
       "    </tr>\n",
       "    <tr>\n",
       "      <th>142</th>\n",
       "      <td>-279.954682</td>\n",
       "      <td>state_nm</td>\n",
       "    </tr>\n",
       "    <tr>\n",
       "      <th>16</th>\n",
       "      <td>-311.571684</td>\n",
       "      <td>manufacturer_gmc</td>\n",
       "    </tr>\n",
       "    <tr>\n",
       "      <th>135</th>\n",
       "      <td>-367.551045</td>\n",
       "      <td>state_ms</td>\n",
       "    </tr>\n",
       "    <tr>\n",
       "      <th>79</th>\n",
       "      <td>-419.973332</td>\n",
       "      <td>size_compact</td>\n",
       "    </tr>\n",
       "    <tr>\n",
       "      <th>114</th>\n",
       "      <td>-522.740993</td>\n",
       "      <td>state_ca</td>\n",
       "    </tr>\n",
       "    <tr>\n",
       "      <th>80</th>\n",
       "      <td>-544.207378</td>\n",
       "      <td>size_full-size</td>\n",
       "    </tr>\n",
       "    <tr>\n",
       "      <th>64</th>\n",
       "      <td>-569.634347</td>\n",
       "      <td>fuel_other</td>\n",
       "    </tr>\n",
       "    <tr>\n",
       "      <th>149</th>\n",
       "      <td>-570.507004</td>\n",
       "      <td>state_ri</td>\n",
       "    </tr>\n",
       "    <tr>\n",
       "      <th>36</th>\n",
       "      <td>-615.696308</td>\n",
       "      <td>manufacturer_ram</td>\n",
       "    </tr>\n",
       "    <tr>\n",
       "      <th>41</th>\n",
       "      <td>-627.114750</td>\n",
       "      <td>manufacturer_toyota</td>\n",
       "    </tr>\n",
       "    <tr>\n",
       "      <th>99</th>\n",
       "      <td>-639.449213</td>\n",
       "      <td>paint_color_brown</td>\n",
       "    </tr>\n",
       "    <tr>\n",
       "      <th>120</th>\n",
       "      <td>-648.310317</td>\n",
       "      <td>state_ga</td>\n",
       "    </tr>\n",
       "    <tr>\n",
       "      <th>133</th>\n",
       "      <td>-687.261854</td>\n",
       "      <td>state_mn</td>\n",
       "    </tr>\n",
       "    <tr>\n",
       "      <th>67</th>\n",
       "      <td>-703.743831</td>\n",
       "      <td>title_status_missing</td>\n",
       "    </tr>\n",
       "    <tr>\n",
       "      <th>101</th>\n",
       "      <td>-750.109883</td>\n",
       "      <td>paint_color_green</td>\n",
       "    </tr>\n",
       "    <tr>\n",
       "      <th>69</th>\n",
       "      <td>-756.291301</td>\n",
       "      <td>title_status_rebuilt</td>\n",
       "    </tr>\n",
       "    <tr>\n",
       "      <th>132</th>\n",
       "      <td>-764.584188</td>\n",
       "      <td>state_mi</td>\n",
       "    </tr>\n",
       "    <tr>\n",
       "      <th>112</th>\n",
       "      <td>-786.887478</td>\n",
       "      <td>state_ar</td>\n",
       "    </tr>\n",
       "    <tr>\n",
       "      <th>106</th>\n",
       "      <td>-790.456061</td>\n",
       "      <td>paint_color_silver</td>\n",
       "    </tr>\n",
       "    <tr>\n",
       "      <th>78</th>\n",
       "      <td>-824.586545</td>\n",
       "      <td>drive_unknown</td>\n",
       "    </tr>\n",
       "    <tr>\n",
       "      <th>118</th>\n",
       "      <td>-869.123071</td>\n",
       "      <td>state_de</td>\n",
       "    </tr>\n",
       "    <tr>\n",
       "      <th>156</th>\n",
       "      <td>-883.903090</td>\n",
       "      <td>state_vt</td>\n",
       "    </tr>\n",
       "    <tr>\n",
       "      <th>146</th>\n",
       "      <td>-941.285951</td>\n",
       "      <td>state_ok</td>\n",
       "    </tr>\n",
       "    <tr>\n",
       "      <th>128</th>\n",
       "      <td>-951.375841</td>\n",
       "      <td>state_la</td>\n",
       "    </tr>\n",
       "    <tr>\n",
       "      <th>82</th>\n",
       "      <td>-953.702275</td>\n",
       "      <td>size_sub-compact</td>\n",
       "    </tr>\n",
       "  </tbody>\n",
       "</table>\n",
       "</div>"
      ],
      "text/plain": [
       "       model_coef               feature_name\n",
       "13   56476.293286       manufacturer_ferrari\n",
       "53   17963.960916     cylinders_12 cylinders\n",
       "40   14752.882401         manufacturer_tesla\n",
       "4    13491.493738  manufacturer_aston-martin\n",
       "35    9831.806600       manufacturer_porsche\n",
       "60    9534.867634                fuel_diesel\n",
       "154   5617.814687                   state_ut\n",
       "37    5000.326122         manufacturer_rover\n",
       "66    4809.093186          title_status_lien\n",
       "136   4737.651987                   state_mt\n",
       "92    3955.808428                type_pickup\n",
       "110   3915.880247                   state_ak\n",
       "11    3646.525253        manufacturer_datsun\n",
       "49    3452.235361              condition_new\n",
       "3     2921.707096    manufacturer_alfa-romeo\n",
       "86    2477.893142           type_convertible\n",
       "65    2467.713619         title_status_clean\n",
       "0     2448.554789                       year\n",
       "75    2416.809460                  drive_4wd\n",
       "87    2333.400852                 type_coupe\n",
       "157   2275.455991                   state_wa\n",
       "5     2150.589606          manufacturer_audi\n",
       "104   2146.373663         paint_color_purple\n",
       "83    2015.963046               size_unknown\n",
       "138   1912.226747                   state_nd\n",
       "143   1833.843070                   state_nv\n",
       "32    1754.279442        manufacturer_morgan\n",
       "48    1667.423809         condition_like new\n",
       "94    1543.981413                 type_truck\n",
       "126   1528.479615                   state_ks\n",
       "95    1508.089100                   type_van\n",
       "160   1464.014121                   state_wy\n",
       "134   1442.101271                   state_mo\n",
       "123   1356.004391                   state_id\n",
       "74    1339.483997         transmission_other\n",
       "111   1339.053089                   state_al\n",
       "151   1336.984524                   state_sd\n",
       "152   1324.637523                   state_tn\n",
       "25    1298.177386         manufacturer_lexus\n",
       "21    1292.681285        manufacturer_jaguar\n",
       "139   1235.086627                   state_ne\n",
       "159   1143.126426                   state_wv\n",
       "121   1127.363173                   state_hi\n",
       "153   1093.061046                   state_tx\n",
       "97     890.436490          paint_color_black\n",
       "44     864.457159         manufacturer_volvo\n",
       "71     805.148889       title_status_unknown\n",
       "77     788.965516                  drive_rwd\n",
       "47     766.380183             condition_good\n",
       "90     761.526116               type_offroad\n",
       "58     674.196731      cylinders_8 cylinders\n",
       "109    658.464565         paint_color_yellow\n",
       "115    533.913077                   state_co\n",
       "127    493.584426                   state_ky\n",
       "100    416.711962         paint_color_custom\n",
       "113    401.954421                   state_az\n",
       "89     394.686562              type_mini-van\n",
       "91     371.224630                 type_other\n",
       "52     360.944547     cylinders_10 cylinders\n",
       "108    325.398298          paint_color_white\n",
       "103    293.807183         paint_color_orange\n",
       "122    285.725905                   state_ia\n",
       "73     192.469776        transmission_manual\n",
       "2      156.203605         manufacturer_acura\n",
       "45     152.882016        condition_excellent\n",
       "102     26.510428           paint_color_grey\n",
       "8      -19.297446      manufacturer_cadillac\n",
       "26     -20.679667       manufacturer_lincoln\n",
       "51     -59.781127          condition_unknown\n",
       "125    -60.120204                   state_in\n",
       "105    -81.080056            paint_color_red\n",
       "81     -98.080061              size_mid-size\n",
       "119   -180.799914                   state_fl\n",
       "98    -195.728390           paint_color_blue\n",
       "150   -196.805046                   state_sc\n",
       "142   -279.954682                   state_nm\n",
       "16    -311.571684           manufacturer_gmc\n",
       "135   -367.551045                   state_ms\n",
       "79    -419.973332               size_compact\n",
       "114   -522.740993                   state_ca\n",
       "80    -544.207378             size_full-size\n",
       "64    -569.634347                 fuel_other\n",
       "149   -570.507004                   state_ri\n",
       "36    -615.696308           manufacturer_ram\n",
       "41    -627.114750        manufacturer_toyota\n",
       "99    -639.449213          paint_color_brown\n",
       "120   -648.310317                   state_ga\n",
       "133   -687.261854                   state_mn\n",
       "67    -703.743831       title_status_missing\n",
       "101   -750.109883          paint_color_green\n",
       "69    -756.291301       title_status_rebuilt\n",
       "132   -764.584188                   state_mi\n",
       "112   -786.887478                   state_ar\n",
       "106   -790.456061         paint_color_silver\n",
       "78    -824.586545              drive_unknown\n",
       "118   -869.123071                   state_de\n",
       "156   -883.903090                   state_vt\n",
       "146   -941.285951                   state_ok\n",
       "128   -951.375841                   state_la\n",
       "82    -953.702275           size_sub-compact"
      ]
     },
     "execution_count": 415,
     "metadata": {},
     "output_type": "execute_result"
    }
   ],
   "source": [
    "eval_df = pd.DataFrame(ridge_model.coef_, columns = [\"model_coef\"])\n",
    "eval_df['feature_name'] = X_train.columns\n",
    "sorted_df = eval_df.sort_values([\"model_coef\"], ascending=False)\n",
    "pd.set_option('display.max_rows', 100)\n",
    "sorted_df.head(100)"
   ]
  },
  {
   "cell_type": "code",
   "execution_count": 417,
   "metadata": {},
   "outputs": [],
   "source": [
    "sorted_df.to_csv('sorted_features_list.csv')\n",
    "# Top features that maximize sale price:\n",
    "# manufacturer_ferrari, manufacturer_tesla, manufacturer_aston-martin, manufacturer_porsche, manufacturer_rover, manufacturer_audi\n",
    "# cylinders_12 cylinders\n",
    "# fuel_diesel\n",
    "# state_ut, state_mt, state_ak, state_wa, state_nd\n",
    "# title_status_lien, title_status_clean\n",
    "# type_pickup, type_convertible, type_coupe\n",
    "# drive_4wd\n",
    "# year\n",
    "# condition_like new\n"
   ]
  },
  {
   "cell_type": "code",
   "execution_count": null,
   "metadata": {},
   "outputs": [],
   "source": []
  },
  {
   "cell_type": "code",
   "execution_count": null,
   "metadata": {},
   "outputs": [],
   "source": []
  },
  {
   "cell_type": "code",
   "execution_count": null,
   "metadata": {},
   "outputs": [],
   "source": []
  },
  {
   "cell_type": "markdown",
   "metadata": {},
   "source": [
    "### Deployment\n",
    "\n",
    "Now that we've settled on our models and findings, it is time to deliver the information to the client.  You should organize your work as a basic report that details your primary findings.  Keep in mind that your audience is a group of used car dealers interested in fine-tuning their inventory."
   ]
  },
  {
   "cell_type": "code",
   "execution_count": null,
   "metadata": {},
   "outputs": [],
   "source": []
  },
  {
   "cell_type": "code",
   "execution_count": null,
   "metadata": {},
   "outputs": [],
   "source": []
  },
  {
   "cell_type": "code",
   "execution_count": null,
   "metadata": {},
   "outputs": [],
   "source": []
  },
  {
   "cell_type": "code",
   "execution_count": null,
   "metadata": {},
   "outputs": [],
   "source": []
  },
  {
   "cell_type": "code",
   "execution_count": null,
   "metadata": {},
   "outputs": [],
   "source": []
  },
  {
   "cell_type": "code",
   "execution_count": null,
   "metadata": {},
   "outputs": [],
   "source": []
  },
  {
   "cell_type": "code",
   "execution_count": null,
   "metadata": {},
   "outputs": [],
   "source": []
  }
 ],
 "metadata": {
  "kernelspec": {
   "display_name": "Python [conda env:base] *",
   "language": "python",
   "name": "conda-base-py"
  },
  "language_info": {
   "codemirror_mode": {
    "name": "ipython",
    "version": 3
   },
   "file_extension": ".py",
   "mimetype": "text/x-python",
   "name": "python",
   "nbconvert_exporter": "python",
   "pygments_lexer": "ipython3",
   "version": "3.12.7"
  },
  "widgets": {
   "application/vnd.jupyter.widget-state+json": {
    "state": {},
    "version_major": 2,
    "version_minor": 0
   }
  }
 },
 "nbformat": 4,
 "nbformat_minor": 4
}
